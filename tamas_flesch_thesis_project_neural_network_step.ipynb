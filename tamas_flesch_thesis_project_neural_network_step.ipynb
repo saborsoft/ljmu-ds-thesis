{
  "nbformat": 4,
  "nbformat_minor": 0,
  "metadata": {
    "colab": {
      "provenance": [],
      "authorship_tag": "ABX9TyMeZIYJICycRuvKxrViUq82"
    },
    "kernelspec": {
      "name": "python3",
      "display_name": "Python 3"
    },
    "language_info": {
      "name": "python"
    }
  },
  "cells": [
    {
      "cell_type": "markdown",
      "source": [
        "This notebook is about to test the futbin.csv data file with neural network models. This notebook is running in the Google colab environment to use the computational capacity of the cloud.\n",
        "The dataset is the same futbin.csv but uploaded into Google drive."
      ],
      "metadata": {
        "id": "g7II78QZCdLd"
      }
    },
    {
      "cell_type": "code",
      "source": [
        "try:\n",
        "    import scikeras\n",
        "except ImportError:\n",
        "    !python -m pip install scikeras"
      ],
      "metadata": {
        "colab": {
          "base_uri": "https://localhost:8080/"
        },
        "id": "7-FEAEkxHW2f",
        "outputId": "b57502fc-b9c6-4659-bb6b-2fb4b93271a1"
      },
      "execution_count": 1,
      "outputs": [
        {
          "output_type": "stream",
          "name": "stdout",
          "text": [
            "Collecting scikeras\n",
            "  Downloading scikeras-0.12.0-py3-none-any.whl (27 kB)\n",
            "Requirement already satisfied: packaging>=0.21 in /usr/local/lib/python3.10/dist-packages (from scikeras) (23.2)\n",
            "Requirement already satisfied: scikit-learn>=1.0.0 in /usr/local/lib/python3.10/dist-packages (from scikeras) (1.2.2)\n",
            "Requirement already satisfied: numpy>=1.17.3 in /usr/local/lib/python3.10/dist-packages (from scikit-learn>=1.0.0->scikeras) (1.23.5)\n",
            "Requirement already satisfied: scipy>=1.3.2 in /usr/local/lib/python3.10/dist-packages (from scikit-learn>=1.0.0->scikeras) (1.11.4)\n",
            "Requirement already satisfied: joblib>=1.1.1 in /usr/local/lib/python3.10/dist-packages (from scikit-learn>=1.0.0->scikeras) (1.3.2)\n",
            "Requirement already satisfied: threadpoolctl>=2.0.0 in /usr/local/lib/python3.10/dist-packages (from scikit-learn>=1.0.0->scikeras) (3.2.0)\n",
            "Installing collected packages: scikeras\n",
            "Successfully installed scikeras-0.12.0\n"
          ]
        }
      ]
    },
    {
      "cell_type": "code",
      "execution_count": 2,
      "metadata": {
        "id": "j1p1LHCXlFrE"
      },
      "outputs": [],
      "source": [
        "import numpy as np\n",
        "import pandas as pd\n",
        "import matplotlib.pyplot as plt\n",
        "import tensorflow as tf\n",
        "from tensorflow import keras\n",
        "from sklearn.model_selection import train_test_split\n",
        "from sklearn.preprocessing import StandardScaler\n",
        "from scikeras.wrappers import KerasRegressor\n",
        "from sklearn.model_selection import cross_val_score\n",
        "from sklearn.model_selection import KFold\n",
        "from sklearn.pipeline import Pipeline\n",
        "%matplotlib inline"
      ]
    },
    {
      "cell_type": "markdown",
      "source": [
        "Mount google drive"
      ],
      "metadata": {
        "id": "hxA8bMcbl0R7"
      }
    },
    {
      "cell_type": "code",
      "source": [
        "from google.colab import drive\n",
        "drive.mount('/content/drive/')"
      ],
      "metadata": {
        "colab": {
          "base_uri": "https://localhost:8080/"
        },
        "id": "66JYdEbQl0lt",
        "outputId": "0749f073-8b57-48ed-8b9c-66c36e4f0747"
      },
      "execution_count": 3,
      "outputs": [
        {
          "output_type": "stream",
          "name": "stdout",
          "text": [
            "Mounted at /content/drive/\n"
          ]
        }
      ]
    },
    {
      "cell_type": "code",
      "source": [
        "!ls -la \"/content/drive/My Drive/\""
      ],
      "metadata": {
        "colab": {
          "base_uri": "https://localhost:8080/"
        },
        "id": "XdZh9RLimCKE",
        "outputId": "93800582-3c0a-446a-8e9e-6d4ec5e1dab7"
      },
      "execution_count": 4,
      "outputs": [
        {
          "output_type": "stream",
          "name": "stdout",
          "text": [
            "ls: '/content/drive/My Drive/termékek_Hegyalja út': No such file or directory\n",
            "total 4442\n",
            "-rw------- 1 root root    2722 Jul 17  2022  all.txt\n",
            "drwx------ 2 root root    4096 Oct 17  2019 'foci tippek'\n",
            "-rw------- 1 root root      30 Jul 17  2022  GB.txt\n",
            "drwx------ 2 root root    4096 Aug  1  2020  Hegyalja\n",
            "-rw------- 1 root root     177 Jun 26 08:19 'LJMU Timeline.gsheet'\n",
            "drwx------ 2 root root    4096 Aug 27 10:55 'Meet Recordings'\n",
            "-rw------- 1 root root 1477507 Jan 11  2023  passport.pdf\n",
            "-rw------- 1 root root 1284466 Oct  8  2022  passport.png\n",
            "drwx------ 2 root root    4096 Jul 27  2021 'Picture share'\n",
            "drwx------ 2 root root    4096 May 16  2023  Print\n",
            "drwx------ 2 root root    4096 Jul 15  2022  python\n",
            "-rw------- 1 root root   17807 Nov 21  2022 'Qatar VB táblázat 1 forduló+ pont.xlsx'\n",
            "-rw------- 1 root root 1499011 Apr 13  2023 'SBS-058 klímacső.rtf'\n",
            "-rw------- 1 root root     177 Apr 13  2023 'SBS-058 klímacső.rtf.gdoc'\n",
            "-rw------- 1 root root     177 Sep 29  2022  Signature.gsheet\n",
            "drwx------ 2 root root    4096 Aug 11  2020 'Sous vide'\n",
            "lrw------- 1 root root       0 Oct 16  2020 'termékek_Hegyalja út' -> '/content/drive/.shortcut-targets-by-id/1vNb3iXAqN4FYsD3jp5MKQ3ZLogp-C3X5/termékek_Hegyalja út'\n",
            "drwx------ 2 root root    4096 Oct 17  2019  triatlon\n",
            "-rw------- 1 root root     177 Jun 28 05:14 'Untitled spreadsheet.gsheet'\n",
            "drwx------ 2 root root    4096 May  1  2023  Upgrad\n",
            "drwx------ 2 root root    4096 Jul 15  2022  vegyes\n",
            "drwx------ 2 root root    4096 Jan 23  2018  Wiki\n",
            "-rw------- 1 root root  217694 Feb 20  2023  WizzAir_KKRIHX_0.pdf\n"
          ]
        }
      ]
    },
    {
      "cell_type": "markdown",
      "source": [
        "This notebook is used the following page as a source:\n",
        "https://machinelearningmastery.com/regression-tutorial-keras-deep-learning-library-python/\n"
      ],
      "metadata": {
        "id": "Os-U3Q-4GQ8Y"
      }
    },
    {
      "cell_type": "markdown",
      "source": [
        "**Part 1**: Import the futbin data and do feature transformations, scaling"
      ],
      "metadata": {
        "id": "WH3DdDG6lZ0M"
      }
    },
    {
      "cell_type": "code",
      "source": [
        "df=pd.read_csv('/content/drive/My Drive/Upgrad/Thesis/3. Thesis/jupyter/futbin.csv')\n",
        "df.head()"
      ],
      "metadata": {
        "colab": {
          "base_uri": "https://localhost:8080/",
          "height": 359
        },
        "id": "zoqo3h3NlhCY",
        "outputId": "1589937f-1d30-4909-d5f7-1a739428fc5b"
      },
      "execution_count": 5,
      "outputs": [
        {
          "output_type": "execute_result",
          "data": {
            "text/plain": [
              "            Name  Rating      Price  Skills_Star  Weak_Foot_Star  \\\n",
              "0           Pelé      98  3270000.0            5               4   \n",
              "1   Lionel Messi      98  4350000.0            4               4   \n",
              "2   Lionel Messi      98  4640000.0            4               4   \n",
              "3  Karim Benzema      97  1850000.0            4               5   \n",
              "4  Kylian Mbappé      97  9750000.0            5               4   \n",
              "\n",
              "   Pace / Diving  Shooting / Handling  Passing / Kicking  \\\n",
              "0           95.0                   96                 93   \n",
              "1           93.0                   98                 97   \n",
              "2           94.0                   97                 96   \n",
              "3           92.0                   97                 90   \n",
              "4           99.0                   96                 88   \n",
              "\n",
              "   Dribbling / Reflexes  Defense / Speed  ...  Alt_Pos_3_CF  Alt_Pos_3_CM  \\\n",
              "0                    96               60  ...             0             0   \n",
              "1                    99               40  ...             0             0   \n",
              "2                    99               40  ...             0             0   \n",
              "3                    94               45  ...             0             0   \n",
              "4                    98               44  ...             0             0   \n",
              "\n",
              "   Alt_Pos_3_LB  Alt_Pos_3_LM  Alt_Pos_3_LW  Alt_Pos_3_LWB  Alt_Pos_3_RM  \\\n",
              "0             0             0             0              0             0   \n",
              "1             0             0             0              0             0   \n",
              "2             0             0             0              0             0   \n",
              "3             0             0             0              0             0   \n",
              "4             0             0             0              0             0   \n",
              "\n",
              "   Alt_Pos_3_RW  Alt_Pos_3_ST  Alt_Pos_3_missing  \n",
              "0             0             0                  1  \n",
              "1             0             0                  1  \n",
              "2             0             0                  1  \n",
              "3             0             0                  1  \n",
              "4             0             0                  1  \n",
              "\n",
              "[5 rows x 105 columns]"
            ],
            "text/html": [
              "\n",
              "  <div id=\"df-0f5cdab0-eea9-4356-bd5e-bf3721d42386\" class=\"colab-df-container\">\n",
              "    <div>\n",
              "<style scoped>\n",
              "    .dataframe tbody tr th:only-of-type {\n",
              "        vertical-align: middle;\n",
              "    }\n",
              "\n",
              "    .dataframe tbody tr th {\n",
              "        vertical-align: top;\n",
              "    }\n",
              "\n",
              "    .dataframe thead th {\n",
              "        text-align: right;\n",
              "    }\n",
              "</style>\n",
              "<table border=\"1\" class=\"dataframe\">\n",
              "  <thead>\n",
              "    <tr style=\"text-align: right;\">\n",
              "      <th></th>\n",
              "      <th>Name</th>\n",
              "      <th>Rating</th>\n",
              "      <th>Price</th>\n",
              "      <th>Skills_Star</th>\n",
              "      <th>Weak_Foot_Star</th>\n",
              "      <th>Pace / Diving</th>\n",
              "      <th>Shooting / Handling</th>\n",
              "      <th>Passing / Kicking</th>\n",
              "      <th>Dribbling / Reflexes</th>\n",
              "      <th>Defense / Speed</th>\n",
              "      <th>...</th>\n",
              "      <th>Alt_Pos_3_CF</th>\n",
              "      <th>Alt_Pos_3_CM</th>\n",
              "      <th>Alt_Pos_3_LB</th>\n",
              "      <th>Alt_Pos_3_LM</th>\n",
              "      <th>Alt_Pos_3_LW</th>\n",
              "      <th>Alt_Pos_3_LWB</th>\n",
              "      <th>Alt_Pos_3_RM</th>\n",
              "      <th>Alt_Pos_3_RW</th>\n",
              "      <th>Alt_Pos_3_ST</th>\n",
              "      <th>Alt_Pos_3_missing</th>\n",
              "    </tr>\n",
              "  </thead>\n",
              "  <tbody>\n",
              "    <tr>\n",
              "      <th>0</th>\n",
              "      <td>Pelé</td>\n",
              "      <td>98</td>\n",
              "      <td>3270000.0</td>\n",
              "      <td>5</td>\n",
              "      <td>4</td>\n",
              "      <td>95.0</td>\n",
              "      <td>96</td>\n",
              "      <td>93</td>\n",
              "      <td>96</td>\n",
              "      <td>60</td>\n",
              "      <td>...</td>\n",
              "      <td>0</td>\n",
              "      <td>0</td>\n",
              "      <td>0</td>\n",
              "      <td>0</td>\n",
              "      <td>0</td>\n",
              "      <td>0</td>\n",
              "      <td>0</td>\n",
              "      <td>0</td>\n",
              "      <td>0</td>\n",
              "      <td>1</td>\n",
              "    </tr>\n",
              "    <tr>\n",
              "      <th>1</th>\n",
              "      <td>Lionel Messi</td>\n",
              "      <td>98</td>\n",
              "      <td>4350000.0</td>\n",
              "      <td>4</td>\n",
              "      <td>4</td>\n",
              "      <td>93.0</td>\n",
              "      <td>98</td>\n",
              "      <td>97</td>\n",
              "      <td>99</td>\n",
              "      <td>40</td>\n",
              "      <td>...</td>\n",
              "      <td>0</td>\n",
              "      <td>0</td>\n",
              "      <td>0</td>\n",
              "      <td>0</td>\n",
              "      <td>0</td>\n",
              "      <td>0</td>\n",
              "      <td>0</td>\n",
              "      <td>0</td>\n",
              "      <td>0</td>\n",
              "      <td>1</td>\n",
              "    </tr>\n",
              "    <tr>\n",
              "      <th>2</th>\n",
              "      <td>Lionel Messi</td>\n",
              "      <td>98</td>\n",
              "      <td>4640000.0</td>\n",
              "      <td>4</td>\n",
              "      <td>4</td>\n",
              "      <td>94.0</td>\n",
              "      <td>97</td>\n",
              "      <td>96</td>\n",
              "      <td>99</td>\n",
              "      <td>40</td>\n",
              "      <td>...</td>\n",
              "      <td>0</td>\n",
              "      <td>0</td>\n",
              "      <td>0</td>\n",
              "      <td>0</td>\n",
              "      <td>0</td>\n",
              "      <td>0</td>\n",
              "      <td>0</td>\n",
              "      <td>0</td>\n",
              "      <td>0</td>\n",
              "      <td>1</td>\n",
              "    </tr>\n",
              "    <tr>\n",
              "      <th>3</th>\n",
              "      <td>Karim Benzema</td>\n",
              "      <td>97</td>\n",
              "      <td>1850000.0</td>\n",
              "      <td>4</td>\n",
              "      <td>5</td>\n",
              "      <td>92.0</td>\n",
              "      <td>97</td>\n",
              "      <td>90</td>\n",
              "      <td>94</td>\n",
              "      <td>45</td>\n",
              "      <td>...</td>\n",
              "      <td>0</td>\n",
              "      <td>0</td>\n",
              "      <td>0</td>\n",
              "      <td>0</td>\n",
              "      <td>0</td>\n",
              "      <td>0</td>\n",
              "      <td>0</td>\n",
              "      <td>0</td>\n",
              "      <td>0</td>\n",
              "      <td>1</td>\n",
              "    </tr>\n",
              "    <tr>\n",
              "      <th>4</th>\n",
              "      <td>Kylian Mbappé</td>\n",
              "      <td>97</td>\n",
              "      <td>9750000.0</td>\n",
              "      <td>5</td>\n",
              "      <td>4</td>\n",
              "      <td>99.0</td>\n",
              "      <td>96</td>\n",
              "      <td>88</td>\n",
              "      <td>98</td>\n",
              "      <td>44</td>\n",
              "      <td>...</td>\n",
              "      <td>0</td>\n",
              "      <td>0</td>\n",
              "      <td>0</td>\n",
              "      <td>0</td>\n",
              "      <td>0</td>\n",
              "      <td>0</td>\n",
              "      <td>0</td>\n",
              "      <td>0</td>\n",
              "      <td>0</td>\n",
              "      <td>1</td>\n",
              "    </tr>\n",
              "  </tbody>\n",
              "</table>\n",
              "<p>5 rows × 105 columns</p>\n",
              "</div>\n",
              "    <div class=\"colab-df-buttons\">\n",
              "\n",
              "  <div class=\"colab-df-container\">\n",
              "    <button class=\"colab-df-convert\" onclick=\"convertToInteractive('df-0f5cdab0-eea9-4356-bd5e-bf3721d42386')\"\n",
              "            title=\"Convert this dataframe to an interactive table.\"\n",
              "            style=\"display:none;\">\n",
              "\n",
              "  <svg xmlns=\"http://www.w3.org/2000/svg\" height=\"24px\" viewBox=\"0 -960 960 960\">\n",
              "    <path d=\"M120-120v-720h720v720H120Zm60-500h600v-160H180v160Zm220 220h160v-160H400v160Zm0 220h160v-160H400v160ZM180-400h160v-160H180v160Zm440 0h160v-160H620v160ZM180-180h160v-160H180v160Zm440 0h160v-160H620v160Z\"/>\n",
              "  </svg>\n",
              "    </button>\n",
              "\n",
              "  <style>\n",
              "    .colab-df-container {\n",
              "      display:flex;\n",
              "      gap: 12px;\n",
              "    }\n",
              "\n",
              "    .colab-df-convert {\n",
              "      background-color: #E8F0FE;\n",
              "      border: none;\n",
              "      border-radius: 50%;\n",
              "      cursor: pointer;\n",
              "      display: none;\n",
              "      fill: #1967D2;\n",
              "      height: 32px;\n",
              "      padding: 0 0 0 0;\n",
              "      width: 32px;\n",
              "    }\n",
              "\n",
              "    .colab-df-convert:hover {\n",
              "      background-color: #E2EBFA;\n",
              "      box-shadow: 0px 1px 2px rgba(60, 64, 67, 0.3), 0px 1px 3px 1px rgba(60, 64, 67, 0.15);\n",
              "      fill: #174EA6;\n",
              "    }\n",
              "\n",
              "    .colab-df-buttons div {\n",
              "      margin-bottom: 4px;\n",
              "    }\n",
              "\n",
              "    [theme=dark] .colab-df-convert {\n",
              "      background-color: #3B4455;\n",
              "      fill: #D2E3FC;\n",
              "    }\n",
              "\n",
              "    [theme=dark] .colab-df-convert:hover {\n",
              "      background-color: #434B5C;\n",
              "      box-shadow: 0px 1px 3px 1px rgba(0, 0, 0, 0.15);\n",
              "      filter: drop-shadow(0px 1px 2px rgba(0, 0, 0, 0.3));\n",
              "      fill: #FFFFFF;\n",
              "    }\n",
              "  </style>\n",
              "\n",
              "    <script>\n",
              "      const buttonEl =\n",
              "        document.querySelector('#df-0f5cdab0-eea9-4356-bd5e-bf3721d42386 button.colab-df-convert');\n",
              "      buttonEl.style.display =\n",
              "        google.colab.kernel.accessAllowed ? 'block' : 'none';\n",
              "\n",
              "      async function convertToInteractive(key) {\n",
              "        const element = document.querySelector('#df-0f5cdab0-eea9-4356-bd5e-bf3721d42386');\n",
              "        const dataTable =\n",
              "          await google.colab.kernel.invokeFunction('convertToInteractive',\n",
              "                                                    [key], {});\n",
              "        if (!dataTable) return;\n",
              "\n",
              "        const docLinkHtml = 'Like what you see? Visit the ' +\n",
              "          '<a target=\"_blank\" href=https://colab.research.google.com/notebooks/data_table.ipynb>data table notebook</a>'\n",
              "          + ' to learn more about interactive tables.';\n",
              "        element.innerHTML = '';\n",
              "        dataTable['output_type'] = 'display_data';\n",
              "        await google.colab.output.renderOutput(dataTable, element);\n",
              "        const docLink = document.createElement('div');\n",
              "        docLink.innerHTML = docLinkHtml;\n",
              "        element.appendChild(docLink);\n",
              "      }\n",
              "    </script>\n",
              "  </div>\n",
              "\n",
              "\n",
              "<div id=\"df-71f0ae24-0109-4f13-b254-0cc92ade67c7\">\n",
              "  <button class=\"colab-df-quickchart\" onclick=\"quickchart('df-71f0ae24-0109-4f13-b254-0cc92ade67c7')\"\n",
              "            title=\"Suggest charts\"\n",
              "            style=\"display:none;\">\n",
              "\n",
              "<svg xmlns=\"http://www.w3.org/2000/svg\" height=\"24px\"viewBox=\"0 0 24 24\"\n",
              "     width=\"24px\">\n",
              "    <g>\n",
              "        <path d=\"M19 3H5c-1.1 0-2 .9-2 2v14c0 1.1.9 2 2 2h14c1.1 0 2-.9 2-2V5c0-1.1-.9-2-2-2zM9 17H7v-7h2v7zm4 0h-2V7h2v10zm4 0h-2v-4h2v4z\"/>\n",
              "    </g>\n",
              "</svg>\n",
              "  </button>\n",
              "\n",
              "<style>\n",
              "  .colab-df-quickchart {\n",
              "      --bg-color: #E8F0FE;\n",
              "      --fill-color: #1967D2;\n",
              "      --hover-bg-color: #E2EBFA;\n",
              "      --hover-fill-color: #174EA6;\n",
              "      --disabled-fill-color: #AAA;\n",
              "      --disabled-bg-color: #DDD;\n",
              "  }\n",
              "\n",
              "  [theme=dark] .colab-df-quickchart {\n",
              "      --bg-color: #3B4455;\n",
              "      --fill-color: #D2E3FC;\n",
              "      --hover-bg-color: #434B5C;\n",
              "      --hover-fill-color: #FFFFFF;\n",
              "      --disabled-bg-color: #3B4455;\n",
              "      --disabled-fill-color: #666;\n",
              "  }\n",
              "\n",
              "  .colab-df-quickchart {\n",
              "    background-color: var(--bg-color);\n",
              "    border: none;\n",
              "    border-radius: 50%;\n",
              "    cursor: pointer;\n",
              "    display: none;\n",
              "    fill: var(--fill-color);\n",
              "    height: 32px;\n",
              "    padding: 0;\n",
              "    width: 32px;\n",
              "  }\n",
              "\n",
              "  .colab-df-quickchart:hover {\n",
              "    background-color: var(--hover-bg-color);\n",
              "    box-shadow: 0 1px 2px rgba(60, 64, 67, 0.3), 0 1px 3px 1px rgba(60, 64, 67, 0.15);\n",
              "    fill: var(--button-hover-fill-color);\n",
              "  }\n",
              "\n",
              "  .colab-df-quickchart-complete:disabled,\n",
              "  .colab-df-quickchart-complete:disabled:hover {\n",
              "    background-color: var(--disabled-bg-color);\n",
              "    fill: var(--disabled-fill-color);\n",
              "    box-shadow: none;\n",
              "  }\n",
              "\n",
              "  .colab-df-spinner {\n",
              "    border: 2px solid var(--fill-color);\n",
              "    border-color: transparent;\n",
              "    border-bottom-color: var(--fill-color);\n",
              "    animation:\n",
              "      spin 1s steps(1) infinite;\n",
              "  }\n",
              "\n",
              "  @keyframes spin {\n",
              "    0% {\n",
              "      border-color: transparent;\n",
              "      border-bottom-color: var(--fill-color);\n",
              "      border-left-color: var(--fill-color);\n",
              "    }\n",
              "    20% {\n",
              "      border-color: transparent;\n",
              "      border-left-color: var(--fill-color);\n",
              "      border-top-color: var(--fill-color);\n",
              "    }\n",
              "    30% {\n",
              "      border-color: transparent;\n",
              "      border-left-color: var(--fill-color);\n",
              "      border-top-color: var(--fill-color);\n",
              "      border-right-color: var(--fill-color);\n",
              "    }\n",
              "    40% {\n",
              "      border-color: transparent;\n",
              "      border-right-color: var(--fill-color);\n",
              "      border-top-color: var(--fill-color);\n",
              "    }\n",
              "    60% {\n",
              "      border-color: transparent;\n",
              "      border-right-color: var(--fill-color);\n",
              "    }\n",
              "    80% {\n",
              "      border-color: transparent;\n",
              "      border-right-color: var(--fill-color);\n",
              "      border-bottom-color: var(--fill-color);\n",
              "    }\n",
              "    90% {\n",
              "      border-color: transparent;\n",
              "      border-bottom-color: var(--fill-color);\n",
              "    }\n",
              "  }\n",
              "</style>\n",
              "\n",
              "  <script>\n",
              "    async function quickchart(key) {\n",
              "      const quickchartButtonEl =\n",
              "        document.querySelector('#' + key + ' button');\n",
              "      quickchartButtonEl.disabled = true;  // To prevent multiple clicks.\n",
              "      quickchartButtonEl.classList.add('colab-df-spinner');\n",
              "      try {\n",
              "        const charts = await google.colab.kernel.invokeFunction(\n",
              "            'suggestCharts', [key], {});\n",
              "      } catch (error) {\n",
              "        console.error('Error during call to suggestCharts:', error);\n",
              "      }\n",
              "      quickchartButtonEl.classList.remove('colab-df-spinner');\n",
              "      quickchartButtonEl.classList.add('colab-df-quickchart-complete');\n",
              "    }\n",
              "    (() => {\n",
              "      let quickchartButtonEl =\n",
              "        document.querySelector('#df-71f0ae24-0109-4f13-b254-0cc92ade67c7 button');\n",
              "      quickchartButtonEl.style.display =\n",
              "        google.colab.kernel.accessAllowed ? 'block' : 'none';\n",
              "    })();\n",
              "  </script>\n",
              "</div>\n",
              "    </div>\n",
              "  </div>\n"
            ]
          },
          "metadata": {},
          "execution_count": 5
        }
      ]
    },
    {
      "cell_type": "code",
      "source": [
        "X = df.copy()\n",
        "# Remove names\n",
        "names = X.pop('Name')\n",
        "# Remove target\n",
        "Y = X.pop('Price')\n",
        "\n",
        "# perform a scaler transform of the input data\n",
        "#scaler = StandardScaler()\n",
        "#X = scaler.fit_transform(X)\n",
        "\n",
        "# perform log transformation of target variable\n",
        "#Y = np.log(Y)"
      ],
      "metadata": {
        "id": "QozmRr91nJWb"
      },
      "execution_count": 6,
      "outputs": []
    },
    {
      "cell_type": "code",
      "source": [
        "#df_scaled = pd.DataFrame(X)\n",
        "#df_scaled.head(2)\n",
        "X.head(2)"
      ],
      "metadata": {
        "colab": {
          "base_uri": "https://localhost:8080/",
          "height": 196
        },
        "id": "s8SPkBT1nuDD",
        "outputId": "2f57d716-5b29-415e-d016-e01454fecd87"
      },
      "execution_count": 7,
      "outputs": [
        {
          "output_type": "execute_result",
          "data": {
            "text/plain": [
              "   Rating  Skills_Star  Weak_Foot_Star  Pace / Diving  Shooting / Handling  \\\n",
              "0      98            5               4           95.0                   96   \n",
              "1      98            4               4           93.0                   98   \n",
              "\n",
              "   Passing / Kicking  Dribbling / Reflexes  Defense / Speed  \\\n",
              "0                 93                    96               60   \n",
              "1                 97                    99               40   \n",
              "\n",
              "   Physical / Positioning  Popularity  ...  Alt_Pos_3_CF  Alt_Pos_3_CM  \\\n",
              "0                      76        3928  ...             0             0   \n",
              "1                      77        5575  ...             0             0   \n",
              "\n",
              "   Alt_Pos_3_LB  Alt_Pos_3_LM  Alt_Pos_3_LW  Alt_Pos_3_LWB  Alt_Pos_3_RM  \\\n",
              "0             0             0             0              0             0   \n",
              "1             0             0             0              0             0   \n",
              "\n",
              "   Alt_Pos_3_RW  Alt_Pos_3_ST  Alt_Pos_3_missing  \n",
              "0             0             0                  1  \n",
              "1             0             0                  1  \n",
              "\n",
              "[2 rows x 103 columns]"
            ],
            "text/html": [
              "\n",
              "  <div id=\"df-0cfc5309-dcfb-42f0-917a-c0df08965ce6\" class=\"colab-df-container\">\n",
              "    <div>\n",
              "<style scoped>\n",
              "    .dataframe tbody tr th:only-of-type {\n",
              "        vertical-align: middle;\n",
              "    }\n",
              "\n",
              "    .dataframe tbody tr th {\n",
              "        vertical-align: top;\n",
              "    }\n",
              "\n",
              "    .dataframe thead th {\n",
              "        text-align: right;\n",
              "    }\n",
              "</style>\n",
              "<table border=\"1\" class=\"dataframe\">\n",
              "  <thead>\n",
              "    <tr style=\"text-align: right;\">\n",
              "      <th></th>\n",
              "      <th>Rating</th>\n",
              "      <th>Skills_Star</th>\n",
              "      <th>Weak_Foot_Star</th>\n",
              "      <th>Pace / Diving</th>\n",
              "      <th>Shooting / Handling</th>\n",
              "      <th>Passing / Kicking</th>\n",
              "      <th>Dribbling / Reflexes</th>\n",
              "      <th>Defense / Speed</th>\n",
              "      <th>Physical / Positioning</th>\n",
              "      <th>Popularity</th>\n",
              "      <th>...</th>\n",
              "      <th>Alt_Pos_3_CF</th>\n",
              "      <th>Alt_Pos_3_CM</th>\n",
              "      <th>Alt_Pos_3_LB</th>\n",
              "      <th>Alt_Pos_3_LM</th>\n",
              "      <th>Alt_Pos_3_LW</th>\n",
              "      <th>Alt_Pos_3_LWB</th>\n",
              "      <th>Alt_Pos_3_RM</th>\n",
              "      <th>Alt_Pos_3_RW</th>\n",
              "      <th>Alt_Pos_3_ST</th>\n",
              "      <th>Alt_Pos_3_missing</th>\n",
              "    </tr>\n",
              "  </thead>\n",
              "  <tbody>\n",
              "    <tr>\n",
              "      <th>0</th>\n",
              "      <td>98</td>\n",
              "      <td>5</td>\n",
              "      <td>4</td>\n",
              "      <td>95.0</td>\n",
              "      <td>96</td>\n",
              "      <td>93</td>\n",
              "      <td>96</td>\n",
              "      <td>60</td>\n",
              "      <td>76</td>\n",
              "      <td>3928</td>\n",
              "      <td>...</td>\n",
              "      <td>0</td>\n",
              "      <td>0</td>\n",
              "      <td>0</td>\n",
              "      <td>0</td>\n",
              "      <td>0</td>\n",
              "      <td>0</td>\n",
              "      <td>0</td>\n",
              "      <td>0</td>\n",
              "      <td>0</td>\n",
              "      <td>1</td>\n",
              "    </tr>\n",
              "    <tr>\n",
              "      <th>1</th>\n",
              "      <td>98</td>\n",
              "      <td>4</td>\n",
              "      <td>4</td>\n",
              "      <td>93.0</td>\n",
              "      <td>98</td>\n",
              "      <td>97</td>\n",
              "      <td>99</td>\n",
              "      <td>40</td>\n",
              "      <td>77</td>\n",
              "      <td>5575</td>\n",
              "      <td>...</td>\n",
              "      <td>0</td>\n",
              "      <td>0</td>\n",
              "      <td>0</td>\n",
              "      <td>0</td>\n",
              "      <td>0</td>\n",
              "      <td>0</td>\n",
              "      <td>0</td>\n",
              "      <td>0</td>\n",
              "      <td>0</td>\n",
              "      <td>1</td>\n",
              "    </tr>\n",
              "  </tbody>\n",
              "</table>\n",
              "<p>2 rows × 103 columns</p>\n",
              "</div>\n",
              "    <div class=\"colab-df-buttons\">\n",
              "\n",
              "  <div class=\"colab-df-container\">\n",
              "    <button class=\"colab-df-convert\" onclick=\"convertToInteractive('df-0cfc5309-dcfb-42f0-917a-c0df08965ce6')\"\n",
              "            title=\"Convert this dataframe to an interactive table.\"\n",
              "            style=\"display:none;\">\n",
              "\n",
              "  <svg xmlns=\"http://www.w3.org/2000/svg\" height=\"24px\" viewBox=\"0 -960 960 960\">\n",
              "    <path d=\"M120-120v-720h720v720H120Zm60-500h600v-160H180v160Zm220 220h160v-160H400v160Zm0 220h160v-160H400v160ZM180-400h160v-160H180v160Zm440 0h160v-160H620v160ZM180-180h160v-160H180v160Zm440 0h160v-160H620v160Z\"/>\n",
              "  </svg>\n",
              "    </button>\n",
              "\n",
              "  <style>\n",
              "    .colab-df-container {\n",
              "      display:flex;\n",
              "      gap: 12px;\n",
              "    }\n",
              "\n",
              "    .colab-df-convert {\n",
              "      background-color: #E8F0FE;\n",
              "      border: none;\n",
              "      border-radius: 50%;\n",
              "      cursor: pointer;\n",
              "      display: none;\n",
              "      fill: #1967D2;\n",
              "      height: 32px;\n",
              "      padding: 0 0 0 0;\n",
              "      width: 32px;\n",
              "    }\n",
              "\n",
              "    .colab-df-convert:hover {\n",
              "      background-color: #E2EBFA;\n",
              "      box-shadow: 0px 1px 2px rgba(60, 64, 67, 0.3), 0px 1px 3px 1px rgba(60, 64, 67, 0.15);\n",
              "      fill: #174EA6;\n",
              "    }\n",
              "\n",
              "    .colab-df-buttons div {\n",
              "      margin-bottom: 4px;\n",
              "    }\n",
              "\n",
              "    [theme=dark] .colab-df-convert {\n",
              "      background-color: #3B4455;\n",
              "      fill: #D2E3FC;\n",
              "    }\n",
              "\n",
              "    [theme=dark] .colab-df-convert:hover {\n",
              "      background-color: #434B5C;\n",
              "      box-shadow: 0px 1px 3px 1px rgba(0, 0, 0, 0.15);\n",
              "      filter: drop-shadow(0px 1px 2px rgba(0, 0, 0, 0.3));\n",
              "      fill: #FFFFFF;\n",
              "    }\n",
              "  </style>\n",
              "\n",
              "    <script>\n",
              "      const buttonEl =\n",
              "        document.querySelector('#df-0cfc5309-dcfb-42f0-917a-c0df08965ce6 button.colab-df-convert');\n",
              "      buttonEl.style.display =\n",
              "        google.colab.kernel.accessAllowed ? 'block' : 'none';\n",
              "\n",
              "      async function convertToInteractive(key) {\n",
              "        const element = document.querySelector('#df-0cfc5309-dcfb-42f0-917a-c0df08965ce6');\n",
              "        const dataTable =\n",
              "          await google.colab.kernel.invokeFunction('convertToInteractive',\n",
              "                                                    [key], {});\n",
              "        if (!dataTable) return;\n",
              "\n",
              "        const docLinkHtml = 'Like what you see? Visit the ' +\n",
              "          '<a target=\"_blank\" href=https://colab.research.google.com/notebooks/data_table.ipynb>data table notebook</a>'\n",
              "          + ' to learn more about interactive tables.';\n",
              "        element.innerHTML = '';\n",
              "        dataTable['output_type'] = 'display_data';\n",
              "        await google.colab.output.renderOutput(dataTable, element);\n",
              "        const docLink = document.createElement('div');\n",
              "        docLink.innerHTML = docLinkHtml;\n",
              "        element.appendChild(docLink);\n",
              "      }\n",
              "    </script>\n",
              "  </div>\n",
              "\n",
              "\n",
              "<div id=\"df-fbcdb0e4-edd4-42b4-9810-18a6f304895c\">\n",
              "  <button class=\"colab-df-quickchart\" onclick=\"quickchart('df-fbcdb0e4-edd4-42b4-9810-18a6f304895c')\"\n",
              "            title=\"Suggest charts\"\n",
              "            style=\"display:none;\">\n",
              "\n",
              "<svg xmlns=\"http://www.w3.org/2000/svg\" height=\"24px\"viewBox=\"0 0 24 24\"\n",
              "     width=\"24px\">\n",
              "    <g>\n",
              "        <path d=\"M19 3H5c-1.1 0-2 .9-2 2v14c0 1.1.9 2 2 2h14c1.1 0 2-.9 2-2V5c0-1.1-.9-2-2-2zM9 17H7v-7h2v7zm4 0h-2V7h2v10zm4 0h-2v-4h2v4z\"/>\n",
              "    </g>\n",
              "</svg>\n",
              "  </button>\n",
              "\n",
              "<style>\n",
              "  .colab-df-quickchart {\n",
              "      --bg-color: #E8F0FE;\n",
              "      --fill-color: #1967D2;\n",
              "      --hover-bg-color: #E2EBFA;\n",
              "      --hover-fill-color: #174EA6;\n",
              "      --disabled-fill-color: #AAA;\n",
              "      --disabled-bg-color: #DDD;\n",
              "  }\n",
              "\n",
              "  [theme=dark] .colab-df-quickchart {\n",
              "      --bg-color: #3B4455;\n",
              "      --fill-color: #D2E3FC;\n",
              "      --hover-bg-color: #434B5C;\n",
              "      --hover-fill-color: #FFFFFF;\n",
              "      --disabled-bg-color: #3B4455;\n",
              "      --disabled-fill-color: #666;\n",
              "  }\n",
              "\n",
              "  .colab-df-quickchart {\n",
              "    background-color: var(--bg-color);\n",
              "    border: none;\n",
              "    border-radius: 50%;\n",
              "    cursor: pointer;\n",
              "    display: none;\n",
              "    fill: var(--fill-color);\n",
              "    height: 32px;\n",
              "    padding: 0;\n",
              "    width: 32px;\n",
              "  }\n",
              "\n",
              "  .colab-df-quickchart:hover {\n",
              "    background-color: var(--hover-bg-color);\n",
              "    box-shadow: 0 1px 2px rgba(60, 64, 67, 0.3), 0 1px 3px 1px rgba(60, 64, 67, 0.15);\n",
              "    fill: var(--button-hover-fill-color);\n",
              "  }\n",
              "\n",
              "  .colab-df-quickchart-complete:disabled,\n",
              "  .colab-df-quickchart-complete:disabled:hover {\n",
              "    background-color: var(--disabled-bg-color);\n",
              "    fill: var(--disabled-fill-color);\n",
              "    box-shadow: none;\n",
              "  }\n",
              "\n",
              "  .colab-df-spinner {\n",
              "    border: 2px solid var(--fill-color);\n",
              "    border-color: transparent;\n",
              "    border-bottom-color: var(--fill-color);\n",
              "    animation:\n",
              "      spin 1s steps(1) infinite;\n",
              "  }\n",
              "\n",
              "  @keyframes spin {\n",
              "    0% {\n",
              "      border-color: transparent;\n",
              "      border-bottom-color: var(--fill-color);\n",
              "      border-left-color: var(--fill-color);\n",
              "    }\n",
              "    20% {\n",
              "      border-color: transparent;\n",
              "      border-left-color: var(--fill-color);\n",
              "      border-top-color: var(--fill-color);\n",
              "    }\n",
              "    30% {\n",
              "      border-color: transparent;\n",
              "      border-left-color: var(--fill-color);\n",
              "      border-top-color: var(--fill-color);\n",
              "      border-right-color: var(--fill-color);\n",
              "    }\n",
              "    40% {\n",
              "      border-color: transparent;\n",
              "      border-right-color: var(--fill-color);\n",
              "      border-top-color: var(--fill-color);\n",
              "    }\n",
              "    60% {\n",
              "      border-color: transparent;\n",
              "      border-right-color: var(--fill-color);\n",
              "    }\n",
              "    80% {\n",
              "      border-color: transparent;\n",
              "      border-right-color: var(--fill-color);\n",
              "      border-bottom-color: var(--fill-color);\n",
              "    }\n",
              "    90% {\n",
              "      border-color: transparent;\n",
              "      border-bottom-color: var(--fill-color);\n",
              "    }\n",
              "  }\n",
              "</style>\n",
              "\n",
              "  <script>\n",
              "    async function quickchart(key) {\n",
              "      const quickchartButtonEl =\n",
              "        document.querySelector('#' + key + ' button');\n",
              "      quickchartButtonEl.disabled = true;  // To prevent multiple clicks.\n",
              "      quickchartButtonEl.classList.add('colab-df-spinner');\n",
              "      try {\n",
              "        const charts = await google.colab.kernel.invokeFunction(\n",
              "            'suggestCharts', [key], {});\n",
              "      } catch (error) {\n",
              "        console.error('Error during call to suggestCharts:', error);\n",
              "      }\n",
              "      quickchartButtonEl.classList.remove('colab-df-spinner');\n",
              "      quickchartButtonEl.classList.add('colab-df-quickchart-complete');\n",
              "    }\n",
              "    (() => {\n",
              "      let quickchartButtonEl =\n",
              "        document.querySelector('#df-fbcdb0e4-edd4-42b4-9810-18a6f304895c button');\n",
              "      quickchartButtonEl.style.display =\n",
              "        google.colab.kernel.accessAllowed ? 'block' : 'none';\n",
              "    })();\n",
              "  </script>\n",
              "</div>\n",
              "    </div>\n",
              "  </div>\n"
            ]
          },
          "metadata": {},
          "execution_count": 7
        }
      ]
    },
    {
      "cell_type": "code",
      "source": [
        "Y"
      ],
      "metadata": {
        "colab": {
          "base_uri": "https://localhost:8080/"
        },
        "id": "w76FHJ0WnzAz",
        "outputId": "198a1dd6-f827-4849-9969-1d6ce5d02f13"
      },
      "execution_count": 8,
      "outputs": [
        {
          "output_type": "execute_result",
          "data": {
            "text/plain": [
              "0       3270000.0\n",
              "1       4350000.0\n",
              "2       4640000.0\n",
              "3       1850000.0\n",
              "4       9750000.0\n",
              "          ...    \n",
              "6392        200.0\n",
              "6393        200.0\n",
              "6394        200.0\n",
              "6395        200.0\n",
              "6396        250.0\n",
              "Name: Price, Length: 6397, dtype: float64"
            ]
          },
          "metadata": {},
          "execution_count": 8
        }
      ]
    },
    {
      "cell_type": "code",
      "source": [
        "X_train, X_val, y_train, y_val = train_test_split(X, Y, test_size = 0.1, random_state=42)"
      ],
      "metadata": {
        "id": "7hTGmtjhn0j4"
      },
      "execution_count": 9,
      "outputs": []
    },
    {
      "cell_type": "markdown",
      "source": [
        "**Part 2**: Create Model Using keras"
      ],
      "metadata": {
        "id": "Zh-F6eVOn7Eg"
      }
    },
    {
      "cell_type": "markdown",
      "source": [
        "First simple model, it has an input layer, one middle layer and one output layer."
      ],
      "metadata": {
        "id": "V9mp_9tWDIkD"
      }
    },
    {
      "cell_type": "code",
      "source": [
        "# define base model\n",
        "def baseline_model():\n",
        "  model = keras.Sequential([\n",
        "      keras.layers.Dense(103, activation=tf.nn.relu, input_shape=(103,)),\n",
        "      keras.layers.Dense(64, activation=tf.nn.relu),\n",
        "      keras.layers.Dense(1, kernel_initializer='normal')])\n",
        "\n",
        "  model.compile(optimizer=tf.keras.optimizers.Adam(learning_rate=0.1),\n",
        "              loss='mean_absolute_error',\n",
        "              metrics=['accuracy'])\n",
        "  return model"
      ],
      "metadata": {
        "id": "S4J71j0nBgy2"
      },
      "execution_count": 10,
      "outputs": []
    },
    {
      "cell_type": "code",
      "source": [
        "%%time\n",
        "estimator = KerasRegressor(model=baseline_model, epochs=100, batch_size=5, verbose=0)\n",
        "kfold = KFold(n_splits=10)\n",
        "results = cross_val_score(estimator, X, Y, cv=kfold, scoring='neg_mean_absolute_error')\n",
        "print(\"Baseline: %.2f (%.2f) MAE\" % (results.mean(), results.std()))"
      ],
      "metadata": {
        "colab": {
          "base_uri": "https://localhost:8080/"
        },
        "id": "l69X5FpvB2K0",
        "outputId": "68451a79-71a0-4470-c2ef-1b4df627028a"
      },
      "execution_count": 11,
      "outputs": [
        {
          "output_type": "stream",
          "name": "stdout",
          "text": [
            "Baseline: -25330.51 (73485.61) MAE\n",
            "CPU times: user 42min 19s, sys: 1min 49s, total: 44min 9s\n",
            "Wall time: 43min 18s\n"
          ]
        }
      ]
    },
    {
      "cell_type": "markdown",
      "source": [
        "The second model is a deeper structure, it has more middle layers."
      ],
      "metadata": {
        "id": "oU0UomvxDsBB"
      }
    },
    {
      "cell_type": "code",
      "source": [
        "# define deeper model\n",
        "def deeperline_model():\n",
        "  model = keras.Sequential([\n",
        "    keras.layers.Dense(103, activation=tf.nn.relu, input_shape=(103,)),\n",
        "    keras.layers.Dense(96, activation=tf.nn.relu),\n",
        "    keras.layers.Dense(82, activation=tf.nn.relu),\n",
        "    keras.layers.Dense(68, activation=tf.nn.relu),\n",
        "    keras.layers.Dense(42, activation=tf.nn.relu),\n",
        "    keras.layers.Dense(30, activation=tf.nn.relu),\n",
        "    keras.layers.Dense(22, activation=tf.nn.relu),\n",
        "    keras.layers.Dense(16, activation=tf.nn.relu),\n",
        "    keras.layers.Dense(8, activation=tf.nn.relu),\n",
        "    keras.layers.Dense(4, activation=tf.nn.relu),\n",
        "    keras.layers.Dense(2, activation=tf.nn.relu),\n",
        "    keras.layers.Dense(1, kernel_initializer='normal')])\n",
        "\n",
        "  model.compile(optimizer=tf.keras.optimizers.Adam(learning_rate=0.1),\n",
        "             loss='mean_absolute_error',\n",
        "              metrics=['accuracy'])\n",
        "  return model"
      ],
      "metadata": {
        "id": "NUaik1WLCG_X"
      },
      "execution_count": 12,
      "outputs": []
    },
    {
      "cell_type": "code",
      "source": [
        "%%time\n",
        "estimator2 = KerasRegressor(model=deeperline_model, epochs=100, batch_size=5, verbose=0)\n",
        "kfold = KFold(n_splits=10)\n",
        "results = cross_val_score(estimator2, X, Y, cv=kfold, scoring='neg_mean_absolute_error')\n",
        "print(\"Deeperline: %.2f (%.2f) MAE\" % (results.mean(), results.std()))"
      ],
      "metadata": {
        "colab": {
          "base_uri": "https://localhost:8080/"
        },
        "id": "1BG7bpCiCHCY",
        "outputId": "9a54e82b-1b86-4829-9ce3-4c2785d1187b"
      },
      "execution_count": 13,
      "outputs": [
        {
          "output_type": "stream",
          "name": "stdout",
          "text": [
            "Deeperline: -25351.55 (73550.37) MAE\n",
            "CPU times: user 1h 13min 16s, sys: 2min 5s, total: 1h 15min 21s\n",
            "Wall time: 1h 1min 30s\n"
          ]
        }
      ]
    },
    {
      "cell_type": "markdown",
      "source": [
        "The third model is a wider model, the input layer is wider than the input size."
      ],
      "metadata": {
        "id": "ZNr1msPNET2U"
      }
    },
    {
      "cell_type": "code",
      "source": [
        "# define wider model\n",
        "def widerline_model():\n",
        "  model = keras.Sequential([\n",
        "    keras.layers.Dense(256, activation=tf.nn.relu, input_shape=(103,)),\n",
        "    keras.layers.Dense(128, activation=tf.nn.relu),\n",
        "    keras.layers.Dense(64, activation=tf.nn.relu),\n",
        "    keras.layers.Dense(32, activation=tf.nn.relu),\n",
        "    keras.layers.Dense(16, activation=tf.nn.relu),\n",
        "    keras.layers.Dense(8, activation=tf.nn.relu),\n",
        "    keras.layers.Dense(1, kernel_initializer='normal')])\n",
        "\n",
        "  model.compile(optimizer=tf.keras.optimizers.Adam(learning_rate=0.1),\n",
        "             loss='mean_absolute_error',\n",
        "              metrics=['accuracy'])\n",
        "  return model"
      ],
      "metadata": {
        "id": "WsLJGD5nn0o-"
      },
      "execution_count": 14,
      "outputs": []
    },
    {
      "cell_type": "code",
      "source": [
        "%%time\n",
        "estimator3 = KerasRegressor(model=widerline_model, epochs=100, batch_size=5, verbose=0)\n",
        "kfold = KFold(n_splits=10)\n",
        "results = cross_val_score(estimator3, X, Y, cv=kfold, scoring='neg_mean_absolute_error')\n",
        "print(\"Widerline: %.2f (%.2f) MAE\" % (results.mean(), results.std()))"
      ],
      "metadata": {
        "colab": {
          "base_uri": "https://localhost:8080/"
        },
        "id": "Fb67_UmUn0vD",
        "outputId": "9555e491-76aa-46cc-ff25-da465be67daf"
      },
      "execution_count": 15,
      "outputs": [
        {
          "output_type": "stream",
          "name": "stdout",
          "text": [
            "Widerline: -25352.51 (73550.02) MAE\n",
            "CPU times: user 1h 37s, sys: 2min 4s, total: 1h 2min 42s\n",
            "Wall time: 53min 57s\n"
          ]
        }
      ]
    },
    {
      "cell_type": "markdown",
      "source": [
        "Deeper model with standardized step"
      ],
      "metadata": {
        "id": "Qfju2yQ0ylyS"
      }
    },
    {
      "cell_type": "code",
      "source": [
        "estimators = []\n",
        "estimators.append(('standardize', StandardScaler()))\n",
        "estimators.append(('mlp', KerasRegressor(model=deeperline_model, epochs=100, batch_size=5, verbose=0)))\n",
        "pipeline = Pipeline(estimators)"
      ],
      "metadata": {
        "id": "tPpkdLymn0xX"
      },
      "execution_count": 16,
      "outputs": []
    },
    {
      "cell_type": "code",
      "source": [
        "%%time\n",
        "kfold = KFold(n_splits=10)\n",
        "results = cross_val_score(pipeline, X, Y, cv=kfold, scoring='neg_mean_absolute_error')\n",
        "print(\"Standardized deeper: %.2f (%.2f) MAE\" % (results.mean(), results.std()))"
      ],
      "metadata": {
        "colab": {
          "base_uri": "https://localhost:8080/"
        },
        "id": "vyx5-ap3ypXz",
        "outputId": "b773b2b0-1abc-4c34-9ff3-9c6b454f7b45"
      },
      "execution_count": 17,
      "outputs": [
        {
          "output_type": "stream",
          "name": "stdout",
          "text": [
            "Standardized deeper: -25352.17 (73550.25) MAE\n",
            "CPU times: user 1h 11min 24s, sys: 2min 1s, total: 1h 13min 26s\n",
            "Wall time: 1h 5min 12s\n"
          ]
        }
      ]
    },
    {
      "cell_type": "code",
      "source": [
        "estimators2 = []\n",
        "estimators2.append(('standardize', StandardScaler()))\n",
        "estimators2.append(('mlp', KerasRegressor(model=widerline_model, epochs=100, batch_size=5, verbose=0)))\n",
        "pipeline2 = Pipeline(estimators2)"
      ],
      "metadata": {
        "id": "nKBT030XypaW"
      },
      "execution_count": 19,
      "outputs": []
    },
    {
      "cell_type": "code",
      "source": [
        "%%time\n",
        "kfold = KFold(n_splits=10)\n",
        "results = cross_val_score(pipeline2, X, Y, cv=kfold, scoring='neg_mean_absolute_error')\n",
        "print(\"Standardized wider: %.2f (%.2f) MAE\" % (results.mean(), results.std()))"
      ],
      "metadata": {
        "colab": {
          "base_uri": "https://localhost:8080/"
        },
        "id": "0xhccUNkypd1",
        "outputId": "db2e9f96-62df-437b-8b69-e6d40f9f4203"
      },
      "execution_count": 20,
      "outputs": [
        {
          "output_type": "stream",
          "name": "stdout",
          "text": [
            "Standardized wider: -25354.22 (73549.22) MAE\n",
            "CPU times: user 1h 6min 50s, sys: 2min 10s, total: 1h 9min\n",
            "Wall time: 1h 2min 6s\n"
          ]
        }
      ]
    }
  ]
}