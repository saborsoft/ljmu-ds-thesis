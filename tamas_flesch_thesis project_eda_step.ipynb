{
 "cells": [
  {
   "cell_type": "markdown",
   "id": "a8b50197",
   "metadata": {},
   "source": [
    "# Tamas Flesch Thesis - EDA step"
   ]
  },
  {
   "cell_type": "markdown",
   "id": "b7fbb3ac",
   "metadata": {},
   "source": [
    "## LMJU - UpGrad - DS"
   ]
  },
  {
   "cell_type": "markdown",
   "id": "3d96aaf2",
   "metadata": {},
   "source": [
    "### Fifa 23 Ultimate Team player price prediction based on the player's attributes"
   ]
  },
  {
   "cell_type": "markdown",
   "id": "6d417f63",
   "metadata": {},
   "source": [
    "<span style=\"color:red\">*UPDATE*</span>\n",
    "\n",
    "The document was updated with the latest EA FC 24 dataset to be able to compare the results with the previous FIFA 23 dataset."
   ]
  },
  {
   "cell_type": "markdown",
   "id": "770a4568",
   "metadata": {},
   "source": [
    "Table of contents\n",
    "1. Read data\n",
    "2. Clean data\n",
    "    - Price_Variation\n",
    "        - convert the field to numeric\n",
    "    - Height (extract height in cm into a new column)\n",
    "        - a few rows were droped because of missing data\n",
    "    - BodyType (extrct 2 new column, body type text and weight in kg)\n",
    "        - a few rows were droped because of missing data\n",
    "    - Club (create new column for ICON players 1/0)\n",
    "    - League\n",
    "        - kept the 5 major european league, MLS and 2 special league (ICONS, World cup)\n",
    "    - Nation\n",
    "        - kept the 4 country with the most player count which almost have 1000+ players\n",
    "    - Card_Version\n",
    "        - removed the column, has mixed values\n",
    "    - Position columns\n",
    "        - created 3 separate columns for the alternate positions (those could be NaN if there are no alt positions)\n",
    "3. Categorical dummy columns\n",
    "    - create dummy category columns for the normal categorical columns\n",
    "    - handle alt position columns, these are have missing values as well\n",
    "    - UPDATE FOR EA FC 24: new column, gender\n",
    "4. Export the final dataset\n",
    "5. visualization TODO!!!\n",
    "    - outliers check\n",
    "    - correlation matrix\n",
    "    - https://towardsdatascience.com/an-extensive-guide-to-exploratory-data-analysis-ddd99a03199e"
   ]
  },
  {
   "cell_type": "markdown",
   "id": "0cd52a60",
   "metadata": {},
   "source": [
    "### 1. Read data"
   ]
  },
  {
   "cell_type": "markdown",
   "id": "04438d76",
   "metadata": {},
   "source": [
    "#### Imports"
   ]
  },
  {
   "cell_type": "code",
   "execution_count": 1,
   "id": "48e36d7a",
   "metadata": {},
   "outputs": [],
   "source": [
    "# Suppressing Warnings\n",
    "import warnings\n",
    "warnings.filterwarnings('ignore')"
   ]
  },
  {
   "cell_type": "code",
   "execution_count": 2,
   "id": "3acd703e",
   "metadata": {},
   "outputs": [],
   "source": [
    "# Importing Pandas and NumPy\n",
    "import pandas as pd, numpy as np"
   ]
  },
  {
   "cell_type": "code",
   "execution_count": 3,
   "id": "3d155d2c",
   "metadata": {},
   "outputs": [],
   "source": [
    "pd.options.display.max_columns = None\n",
    "pd.options.display.max_rows = None"
   ]
  },
  {
   "cell_type": "code",
   "execution_count": 4,
   "id": "eb8790d6",
   "metadata": {
    "scrolled": true
   },
   "outputs": [],
   "source": [
    "# Importing all datasets\n",
    "futbin_data = pd.read_csv(\"eafc24_players_2024-06-07.csv\")\n",
    "futbin_data.head()"
   ]
  },
  {
   "cell_type": "markdown",
   "id": "b8b9c6a1",
   "metadata": {},
   "source": [
    "#### check and understand the Price data column"
   ]
  },
  {
   "cell_type": "code",
   "execution_count": 5,
   "id": "625553de",
   "metadata": {},
   "outputs": [],
   "source": [
    "futbin_data.Price.describe()"
   ]
  },
  {
   "cell_type": "code",
   "execution_count": 6,
   "id": "13a84ef8",
   "metadata": {},
   "outputs": [],
   "source": [
    "len(futbin_data[futbin_data.Price == 0])"
   ]
  },
  {
   "cell_type": "code",
   "execution_count": 7,
   "id": "9ac80bb9",
   "metadata": {},
   "outputs": [],
   "source": [
    "futbin_data[futbin_data.Price == 0].head()"
   ]
  },
  {
   "cell_type": "markdown",
   "id": "4d601fa3",
   "metadata": {},
   "source": [
    "SBC concept, ingame, there is a mini game, where players can finish squad building challenges (SBCs), and get valuable player. These players are not in the market, so players can't buy them on the market, that's why they havn't got a price. So I'll remove these cards from the dataset."
   ]
  },
  {
   "cell_type": "code",
   "execution_count": 8,
   "id": "6f214991",
   "metadata": {},
   "outputs": [],
   "source": [
    "futbin_data = futbin_data[futbin_data.Price > 0]"
   ]
  },
  {
   "cell_type": "code",
   "execution_count": 9,
   "id": "430be4f4",
   "metadata": {},
   "outputs": [],
   "source": [
    "len(futbin_data[futbin_data.Price == 0])"
   ]
  },
  {
   "cell_type": "markdown",
   "id": "ac548ff4",
   "metadata": {},
   "source": [
    "### 2. Clean data"
   ]
  },
  {
   "cell_type": "markdown",
   "id": "5f8e30d1",
   "metadata": {},
   "source": [
    "We need only numeric data, so first of all I'll need to investigate the columns, extract the numeric fields, like the height or the body weight. \n",
    "\n",
    "Then create dummy columns for the categorical columns like the run style. \n",
    "\n",
    "At the last step, I'll create some derived columns where I need to merge some information from columns with a lot of different text values. Like the club or the card version. These columns have a lot of different, distinct values, so I will select some of the most valueable categories and will create a special coulmn with 1/0 values. 1 for the most special categories and 0 for the other columns."
   ]
  },
  {
   "cell_type": "markdown",
   "id": "544d2663",
   "metadata": {},
   "source": [
    "#### Price_Variation"
   ]
  },
  {
   "cell_type": "code",
   "execution_count": 10,
   "id": "59939f33",
   "metadata": {},
   "outputs": [],
   "source": [
    "futbin_data.Price_Variation.value_counts()"
   ]
  },
  {
   "cell_type": "markdown",
   "id": "c900566a",
   "metadata": {},
   "source": [
    "too much missing valuees, and based on the differences, it seems to me that this column has a lot of outliners as well, I think it is better to remove it from the dataset."
   ]
  },
  {
   "cell_type": "code",
   "execution_count": 11,
   "id": "e69dc315",
   "metadata": {},
   "outputs": [],
   "source": [
    "futbin_data = futbin_data.drop(['Price_Variation'], 1)"
   ]
  },
  {
   "cell_type": "markdown",
   "id": "3b548d4f",
   "metadata": {},
   "source": [
    "#### Height"
   ]
  },
  {
   "cell_type": "code",
   "execution_count": 12,
   "id": "4c481e97",
   "metadata": {},
   "outputs": [],
   "source": [
    "futbin_data.head()[\"Height\"][0]"
   ]
  },
  {
   "cell_type": "code",
   "execution_count": 13,
   "id": "fddec322",
   "metadata": {},
   "outputs": [],
   "source": [
    "futbin_data.Height.info()"
   ]
  },
  {
   "cell_type": "code",
   "execution_count": 14,
   "id": "8c8c20ba",
   "metadata": {},
   "outputs": [],
   "source": [
    "futbin_data.Height.value_counts()"
   ]
  },
  {
   "cell_type": "code",
   "execution_count": 15,
   "id": "18b8ef3d",
   "metadata": {},
   "outputs": [],
   "source": [
    "# remove 0 values, 4 records"
   ]
  },
  {
   "cell_type": "code",
   "execution_count": 16,
   "id": "765d0f79",
   "metadata": {
    "scrolled": true
   },
   "outputs": [],
   "source": [
    "futbin_data.shape[0]"
   ]
  },
  {
   "cell_type": "code",
   "execution_count": 17,
   "id": "0c20e518",
   "metadata": {},
   "outputs": [],
   "source": [
    "futbin_data[futbin_data.Height == \"0\"]"
   ]
  },
  {
   "cell_type": "code",
   "execution_count": 18,
   "id": "ccab6cb6",
   "metadata": {},
   "outputs": [],
   "source": [
    "futbin_data = futbin_data.drop(futbin_data[futbin_data.Height == \"0\"].index)"
   ]
  },
  {
   "cell_type": "code",
   "execution_count": 19,
   "id": "ec6e5408",
   "metadata": {},
   "outputs": [],
   "source": [
    "futbin_data.shape[0]"
   ]
  },
  {
   "cell_type": "code",
   "execution_count": 20,
   "id": "9d7181cc",
   "metadata": {},
   "outputs": [],
   "source": [
    "futbin_data[futbin_data.Height == \"0\"]"
   ]
  },
  {
   "cell_type": "code",
   "execution_count": 21,
   "id": "f82a6c07",
   "metadata": {},
   "outputs": [],
   "source": [
    "futbin_data['Height_in_cm'] = futbin_data['Height'].str[:3]"
   ]
  },
  {
   "cell_type": "code",
   "execution_count": 22,
   "id": "5191fba9",
   "metadata": {},
   "outputs": [],
   "source": [
    "futbin_data['Height_in_cm'].info()"
   ]
  },
  {
   "cell_type": "code",
   "execution_count": 23,
   "id": "5bdc9424",
   "metadata": {},
   "outputs": [],
   "source": [
    "futbin_data['Height_in_cm'] = pd.to_numeric(futbin_data['Height_in_cm'])"
   ]
  },
  {
   "cell_type": "code",
   "execution_count": 24,
   "id": "8c5d1b70",
   "metadata": {},
   "outputs": [],
   "source": [
    "futbin_data.info()"
   ]
  },
  {
   "cell_type": "markdown",
   "id": "a19d5521",
   "metadata": {},
   "source": [
    "#### Body type"
   ]
  },
  {
   "cell_type": "code",
   "execution_count": 25,
   "id": "658361d1",
   "metadata": {},
   "outputs": [],
   "source": [
    "futbin_data.BodyType.info()"
   ]
  },
  {
   "cell_type": "code",
   "execution_count": 26,
   "id": "840a009c",
   "metadata": {},
   "outputs": [],
   "source": [
    "futbin_data.BodyType.value_counts()"
   ]
  },
  {
   "cell_type": "markdown",
   "id": "1723f84f",
   "metadata": {},
   "source": [
    "I need to create two more columns from this one. The first one would be a numeric field in kg. The second is a categorical field with the body type."
   ]
  },
  {
   "cell_type": "code",
   "execution_count": 27,
   "id": "4fc77a50",
   "metadata": {},
   "outputs": [],
   "source": [
    "futbin_data[['BodyType_Text', 'BodyType_Weight']] = futbin_data['BodyType'].str.split('  ', 1, expand=True)"
   ]
  },
  {
   "cell_type": "markdown",
   "id": "3116af43",
   "metadata": {},
   "source": [
    "First try, using '  ' (double spaces), let's try, is it working?"
   ]
  },
  {
   "cell_type": "code",
   "execution_count": 28,
   "id": "453a05a0",
   "metadata": {},
   "outputs": [],
   "source": [
    "futbin_data.info()"
   ]
  },
  {
   "cell_type": "markdown",
   "id": "8887d592",
   "metadata": {},
   "source": [
    "Some rows are missing from the Weight coulmn, maybe double-space is not the right separator for every row."
   ]
  },
  {
   "cell_type": "code",
   "execution_count": 29,
   "id": "85f51c06",
   "metadata": {},
   "outputs": [],
   "source": [
    "futbin_data.BodyType_Text.value_counts()"
   ]
  },
  {
   "cell_type": "code",
   "execution_count": 30,
   "id": "2b24dd0e",
   "metadata": {},
   "outputs": [],
   "source": [
    "futbin_data.BodyType_Weight.value_counts()"
   ]
  },
  {
   "cell_type": "markdown",
   "id": "181a1826",
   "metadata": {},
   "source": [
    "Second try, sometimes we have 2 or 3 spaces as a separator so I will try a parenthesis ("
   ]
  },
  {
   "cell_type": "code",
   "execution_count": 31,
   "id": "db6fd0e8",
   "metadata": {},
   "outputs": [],
   "source": [
    "futbin_data[['BodyType_Text', 'BodyType_Weight']] = futbin_data['BodyType'].str.split('(', 1, expand=True)"
   ]
  },
  {
   "cell_type": "code",
   "execution_count": 32,
   "id": "8664da76",
   "metadata": {},
   "outputs": [],
   "source": [
    "futbin_data.info()"
   ]
  },
  {
   "cell_type": "code",
   "execution_count": 33,
   "id": "828250ca",
   "metadata": {},
   "outputs": [],
   "source": [
    "futbin_data.BodyType_Text.value_counts()"
   ]
  },
  {
   "cell_type": "code",
   "execution_count": 34,
   "id": "5354feda",
   "metadata": {},
   "outputs": [],
   "source": [
    "futbin_data.BodyType_Weight.value_counts()"
   ]
  },
  {
   "cell_type": "code",
   "execution_count": 35,
   "id": "9c66ba7b",
   "metadata": {},
   "outputs": [],
   "source": [
    "futbin_data.BodyType_Weight.count()"
   ]
  },
  {
   "cell_type": "code",
   "execution_count": 36,
   "id": "10e62d9d",
   "metadata": {},
   "outputs": [],
   "source": [
    "futbin_data[futbin_data.BodyType_Weight.isnull() == True]"
   ]
  },
  {
   "cell_type": "code",
   "execution_count": 37,
   "id": "e14c158f",
   "metadata": {},
   "outputs": [],
   "source": [
    "futbin_data = futbin_data.drop(futbin_data[futbin_data.BodyType_Weight.isnull() == True].index)"
   ]
  },
  {
   "cell_type": "code",
   "execution_count": 38,
   "id": "c3a2adb4",
   "metadata": {},
   "outputs": [],
   "source": [
    "futbin_data.info()"
   ]
  },
  {
   "cell_type": "code",
   "execution_count": 39,
   "id": "6661bf1c",
   "metadata": {},
   "outputs": [],
   "source": [
    "futbin_data.BodyType_Text.value_counts()"
   ]
  },
  {
   "cell_type": "code",
   "execution_count": 40,
   "id": "daba16c0",
   "metadata": {},
   "outputs": [],
   "source": [
    "futbin_data.BodyType_Text = futbin_data.BodyType_Text.str.strip()"
   ]
  },
  {
   "cell_type": "code",
   "execution_count": 41,
   "id": "270dc0ee",
   "metadata": {},
   "outputs": [],
   "source": [
    "futbin_data.BodyType_Weight.value_counts()"
   ]
  },
  {
   "cell_type": "code",
   "execution_count": 42,
   "id": "dda28885",
   "metadata": {},
   "outputs": [],
   "source": [
    "futbin_data.BodyType_Weight = futbin_data.BodyType_Weight.str[:-3]"
   ]
  },
  {
   "cell_type": "code",
   "execution_count": 43,
   "id": "66b71e97",
   "metadata": {},
   "outputs": [],
   "source": [
    "futbin_data.BodyType_Weight = pd.to_numeric(futbin_data.BodyType_Weight)"
   ]
  },
  {
   "cell_type": "code",
   "execution_count": 44,
   "id": "51298a7f",
   "metadata": {},
   "outputs": [],
   "source": [
    "futbin_data.info()"
   ]
  },
  {
   "cell_type": "code",
   "execution_count": 45,
   "id": "654736a4",
   "metadata": {},
   "outputs": [],
   "source": [
    "futbin_data.head()"
   ]
  },
  {
   "cell_type": "markdown",
   "id": "094d6769",
   "metadata": {},
   "source": [
    "Remove extracted columns"
   ]
  },
  {
   "cell_type": "code",
   "execution_count": 46,
   "id": "23764e49",
   "metadata": {},
   "outputs": [],
   "source": [
    "futbin_data = futbin_data.drop(['Height','BodyType'], 1)"
   ]
  },
  {
   "cell_type": "code",
   "execution_count": 47,
   "id": "fc0700e7",
   "metadata": {},
   "outputs": [],
   "source": [
    "futbin_data.Club.value_counts()"
   ]
  },
  {
   "cell_type": "markdown",
   "id": "0599e4b7",
   "metadata": {},
   "source": [
    "#### Club"
   ]
  },
  {
   "cell_type": "markdown",
   "id": "bbed25f9",
   "metadata": {},
   "source": [
    "It has many values, I'll create a new column which will have 1 if the club is FUT ICONS or HERO and 0 otherwise."
   ]
  },
  {
   "cell_type": "code",
   "execution_count": 48,
   "id": "c9a45093",
   "metadata": {},
   "outputs": [],
   "source": [
    "# Defining the map function\n",
    "def icon_map(x):\n",
    "    if x == 'EA FC ICONS':\n",
    "        return 1\n",
    "    elif x == 'HERO':\n",
    "        return 1\n",
    "    else:\n",
    "        return 0\n",
    "\n",
    "# Applying the function to the club column\n",
    "futbin_data['Club_Hero'] = futbin_data['Club'].apply(icon_map)"
   ]
  },
  {
   "cell_type": "code",
   "execution_count": 49,
   "id": "f7317578",
   "metadata": {},
   "outputs": [],
   "source": [
    "futbin_data.Club_Hero.value_counts()"
   ]
  },
  {
   "cell_type": "code",
   "execution_count": 50,
   "id": "2b6e11ff",
   "metadata": {},
   "outputs": [],
   "source": [
    "futbin_data = futbin_data.drop(['Club'], 1)"
   ]
  },
  {
   "cell_type": "code",
   "execution_count": 51,
   "id": "8c1cd62e",
   "metadata": {
    "scrolled": true
   },
   "outputs": [],
   "source": [
    "futbin_data.head()"
   ]
  },
  {
   "cell_type": "markdown",
   "id": "86894148",
   "metadata": {},
   "source": [
    "#### League"
   ]
  },
  {
   "cell_type": "code",
   "execution_count": 52,
   "id": "86ea97b7",
   "metadata": {},
   "outputs": [],
   "source": [
    "futbin_data.League.value_counts()"
   ]
  },
  {
   "cell_type": "markdown",
   "id": "ee7ee645",
   "metadata": {},
   "source": [
    "We have many leagues, I'll collect the 5 mayor european leagues, and some special cases (Worls Cup, Icons), and all of the other values will be other. After this simplification I'll create categorical columns from the values."
   ]
  },
  {
   "cell_type": "code",
   "execution_count": 53,
   "id": "2a6af59a",
   "metadata": {},
   "outputs": [],
   "source": [
    "# Defining the map function\n",
    "def special_club_map(x):\n",
    "    if x == 'Icons':\n",
    "        return 'Icons'\n",
    "    elif x == 'LALIGA EA SPORTS':\n",
    "        return 'LALIGA EA SPORTS'\n",
    "    elif x == 'Premier League':\n",
    "        return 'Premier League'\n",
    "    elif x == 'MLS':\n",
    "        return 'MLS'\n",
    "    elif x == 'Serie A TIM':\n",
    "        return 'Serie A TIM'\n",
    "    elif x == 'Ligue 1 Uber Eats':\n",
    "        return 'Ligue 1 Uber Eats'\n",
    "    elif x == 'Bundesliga':\n",
    "        return 'Bundesliga'\n",
    "    else:\n",
    "        return 'Other'\n",
    "\n",
    "# Applying the function to the club column\n",
    "futbin_data['League_Cat'] = futbin_data['League'].apply(special_club_map)"
   ]
  },
  {
   "cell_type": "code",
   "execution_count": 54,
   "id": "03edd07e",
   "metadata": {},
   "outputs": [],
   "source": [
    "futbin_data.League_Cat.value_counts()"
   ]
  },
  {
   "cell_type": "code",
   "execution_count": 55,
   "id": "0a7cb3af",
   "metadata": {},
   "outputs": [],
   "source": [
    "futbin_data = futbin_data.drop(['League'], 1)"
   ]
  },
  {
   "cell_type": "code",
   "execution_count": 56,
   "id": "47b2bc8b",
   "metadata": {},
   "outputs": [],
   "source": [
    "futbin_data.head()"
   ]
  },
  {
   "cell_type": "markdown",
   "id": "25e82415",
   "metadata": {},
   "source": [
    "#### Nation"
   ]
  },
  {
   "cell_type": "markdown",
   "id": "28c94b4f",
   "metadata": {},
   "source": [
    "I'll check the nation column, but I have a feeling that I need to remove it, because it has probably a lot of values and it will be hard to extract information from it."
   ]
  },
  {
   "cell_type": "code",
   "execution_count": 57,
   "id": "533cc804",
   "metadata": {
    "scrolled": false
   },
   "outputs": [],
   "source": [
    "futbin_data.Nation.value_counts()"
   ]
  },
  {
   "cell_type": "markdown",
   "id": "9c5ebbbe",
   "metadata": {},
   "source": [
    "We have a few nations more than 1000 players so I decided that I will keep those, and will use other for the others. It is just a subjective decision, so later it can be modified, and maybe keep other nations as well.\n",
    "\n",
    "One other derived direction could be to merge the countries by continents Europe, America, Asia, and so on..."
   ]
  },
  {
   "cell_type": "code",
   "execution_count": 58,
   "id": "79a10925",
   "metadata": {},
   "outputs": [],
   "source": [
    "# Defining the map function\n",
    "def nation_keep_map(x):\n",
    "    if x == 'England':\n",
    "        return 'England'\n",
    "    elif x == 'Germany':\n",
    "        return 'Germany'\n",
    "    elif x == 'Spain':\n",
    "        return 'Spain'\n",
    "    elif x == 'France':\n",
    "        return 'France'\n",
    "    elif x == 'Argentina':\n",
    "        return 'Argentina'\n",
    "    elif x == 'United States':\n",
    "        return 'United States'\n",
    "    elif x == 'Italy':\n",
    "        return 'Italy'\n",
    "    elif x == 'Brazil':\n",
    "        return 'Brazil'\n",
    "    elif x == 'Holland':\n",
    "        return 'Holland'\n",
    "    elif x == 'Portugal':\n",
    "        return 'Portugal'\n",
    "    else:\n",
    "        return 'Other'\n",
    "\n",
    "# Applying the function to the club column\n",
    "futbin_data['Nation_Cat'] = futbin_data['Nation'].apply(nation_keep_map)"
   ]
  },
  {
   "cell_type": "code",
   "execution_count": 59,
   "id": "f15d4d0b",
   "metadata": {},
   "outputs": [],
   "source": [
    "futbin_data.Nation_Cat.value_counts()"
   ]
  },
  {
   "cell_type": "code",
   "execution_count": 60,
   "id": "3141d271",
   "metadata": {},
   "outputs": [],
   "source": [
    "futbin_data = futbin_data.drop(['Nation'], 1)"
   ]
  },
  {
   "cell_type": "code",
   "execution_count": 61,
   "id": "07d39ee5",
   "metadata": {},
   "outputs": [],
   "source": [
    "futbin_data.head()"
   ]
  },
  {
   "cell_type": "markdown",
   "id": "bc6335fd",
   "metadata": {},
   "source": [
    "#### Card_Version"
   ]
  },
  {
   "cell_type": "code",
   "execution_count": 62,
   "id": "f2936662",
   "metadata": {},
   "outputs": [],
   "source": [
    "futbin_data.Card_Version.value_counts()"
   ]
  },
  {
   "cell_type": "markdown",
   "id": "2ebf0127",
   "metadata": {},
   "source": [
    "too many options and the values are mixed, not just card versions (toty, fut hero, winter wildcards, etc) but positions (LB, RB, etc and these combinations as well)\n",
    "\n",
    "I'll just remove this column for now."
   ]
  },
  {
   "cell_type": "code",
   "execution_count": 63,
   "id": "a2902fc8",
   "metadata": {},
   "outputs": [],
   "source": [
    "futbin_data = futbin_data.drop(['Card_Version'], 1)"
   ]
  },
  {
   "cell_type": "code",
   "execution_count": 64,
   "id": "cb01c75c",
   "metadata": {},
   "outputs": [],
   "source": [
    "futbin_data.head()"
   ]
  },
  {
   "cell_type": "markdown",
   "id": "8bf83fab",
   "metadata": {},
   "source": [
    "#### Positions"
   ]
  },
  {
   "cell_type": "code",
   "execution_count": 65,
   "id": "de34269f",
   "metadata": {},
   "outputs": [],
   "source": [
    "futbin_data.Main_Position.value_counts()"
   ]
  },
  {
   "cell_type": "markdown",
   "id": "40ec6e3f",
   "metadata": {},
   "source": [
    "would be perfect for categorical columns, will convert it at the last step."
   ]
  },
  {
   "cell_type": "code",
   "execution_count": 66,
   "id": "456ebc13",
   "metadata": {},
   "outputs": [],
   "source": [
    "futbin_data.Alternate_Positions.value_counts()"
   ]
  },
  {
   "cell_type": "code",
   "execution_count": 67,
   "id": "8a48c865",
   "metadata": {},
   "outputs": [],
   "source": [
    "futbin_data['Alt_Pos_List'] = futbin_data['Alternate_Positions'].str.split(',')"
   ]
  },
  {
   "cell_type": "code",
   "execution_count": 68,
   "id": "06bb2b19",
   "metadata": {},
   "outputs": [],
   "source": [
    "futbin_data['Alt_Pos_List'].head()"
   ]
  },
  {
   "cell_type": "code",
   "execution_count": 69,
   "id": "36ee7f6e",
   "metadata": {},
   "outputs": [],
   "source": [
    "#futbin_data[['Alt_Pos_1', 'Alt_Pos_2', 'Alt_Pos_3']] = futbin_data['Alternate_Positions'].str.split(',', 1, expand=True)"
   ]
  },
  {
   "cell_type": "code",
   "execution_count": 70,
   "id": "952e4a41",
   "metadata": {},
   "outputs": [],
   "source": [
    "futbin_data = futbin_data.join(futbin_data['Alternate_Positions'].str.split(',', expand=True).rename(columns={0:'Alt_Pos_1', 1:'Alt_Pos_2', 2:'Alt_Pos_3'}))"
   ]
  },
  {
   "cell_type": "code",
   "execution_count": 71,
   "id": "b87389ec",
   "metadata": {},
   "outputs": [],
   "source": [
    "futbin_data.head()"
   ]
  },
  {
   "cell_type": "code",
   "execution_count": 72,
   "id": "2fb9a98b",
   "metadata": {},
   "outputs": [],
   "source": [
    "futbin_data['Alt_Pos_Count'] = futbin_data['Alt_Pos_List'].str.len()"
   ]
  },
  {
   "cell_type": "code",
   "execution_count": 73,
   "id": "09284791",
   "metadata": {},
   "outputs": [],
   "source": [
    "futbin_data = futbin_data.drop(['Alternate_Positions'], 1)"
   ]
  },
  {
   "cell_type": "code",
   "execution_count": 74,
   "id": "818ec741",
   "metadata": {},
   "outputs": [],
   "source": [
    "futbin_data = futbin_data.drop(['Alt_Pos_List'], 1)"
   ]
  },
  {
   "cell_type": "code",
   "execution_count": 75,
   "id": "adebe885",
   "metadata": {},
   "outputs": [],
   "source": [
    "futbin_data.head()"
   ]
  },
  {
   "cell_type": "code",
   "execution_count": 76,
   "id": "5e9daf2b",
   "metadata": {},
   "outputs": [],
   "source": [
    "futbin_data.tail()"
   ]
  },
  {
   "cell_type": "code",
   "execution_count": 77,
   "id": "5555fcd4",
   "metadata": {},
   "outputs": [],
   "source": [
    "futbin_data.Alt_Pos_1.replace('0', np.nan, inplace=True)"
   ]
  },
  {
   "cell_type": "code",
   "execution_count": 78,
   "id": "aa5c749d",
   "metadata": {},
   "outputs": [],
   "source": [
    "futbin_data.Alt_Pos_2.fillna(value=np.nan, inplace=True)"
   ]
  },
  {
   "cell_type": "code",
   "execution_count": 79,
   "id": "f5e38c93",
   "metadata": {},
   "outputs": [],
   "source": [
    "futbin_data.Alt_Pos_3.fillna(value=np.nan, inplace=True)"
   ]
  },
  {
   "cell_type": "markdown",
   "id": "dfef669b",
   "metadata": {},
   "source": [
    "Need to update Alt_Pos_Count to 0 if the Alt_Pos_1 is NaN, because originally, the field conatins 0 instead of null value."
   ]
  },
  {
   "cell_type": "code",
   "execution_count": 80,
   "id": "e213c4dd",
   "metadata": {},
   "outputs": [],
   "source": [
    "#futbin_data['Alt_Pos_Count'] = futbin_data.apply(lambda x: 0 if x['Alt_Pos_1']=='NaN' else x['Alt_Pos_Count'], axis=1)\n",
    "futbin_data.Alt_Pos_Count = np.where(futbin_data.Alt_Pos_1.isna(), 0, futbin_data.Alt_Pos_Count)"
   ]
  },
  {
   "cell_type": "code",
   "execution_count": 81,
   "id": "26296ae9",
   "metadata": {},
   "outputs": [],
   "source": [
    "futbin_data.Alt_Pos_1.info()"
   ]
  },
  {
   "cell_type": "code",
   "execution_count": 82,
   "id": "adcccb97",
   "metadata": {},
   "outputs": [],
   "source": [
    "futbin_data[futbin_data.Alt_Pos_1.isna()].tail()"
   ]
  },
  {
   "cell_type": "code",
   "execution_count": 83,
   "id": "5b19d7ad",
   "metadata": {
    "scrolled": true
   },
   "outputs": [],
   "source": [
    "futbin_data.tail()"
   ]
  },
  {
   "cell_type": "markdown",
   "id": "20b05045",
   "metadata": {},
   "source": [
    "### 3. Categorical columns"
   ]
  },
  {
   "cell_type": "markdown",
   "id": "4e8dbdb9",
   "metadata": {},
   "source": [
    "Main_Position\n",
    "\n",
    "Run_Style\n",
    "\n",
    "Attack_Workrate\n",
    "\n",
    "Defense_Workrate\n",
    "\n",
    "BodyType_Text\n",
    "\n",
    "League_Cat\n",
    "\n",
    "Nation_Cat\n",
    "\n",
    "======================================================\n",
    "\n",
    "Alt_Pos_1\n",
    "\n",
    "Alt_Pos_2\n",
    "\n",
    "Alt_Pos_3"
   ]
  },
  {
   "cell_type": "markdown",
   "id": "124882dd",
   "metadata": {},
   "source": [
    "First I'll handle the \"normal\" cat columns, skipping the from alt pos, because those could have emty fields."
   ]
  },
  {
   "cell_type": "code",
   "execution_count": 84,
   "id": "97ccb1de",
   "metadata": {},
   "outputs": [],
   "source": [
    "# Creating a dummy variable for some of the categorical variables and dropping the first one.\n",
    "dummy_fields = pd.get_dummies(futbin_data[['Main_Position', 'Run_Style', 'Attack_Workrate', 'Defense_Workrate', \n",
    "                                           'BodyType_Text', 'League_Cat', 'Nation_Cat']], drop_first=True)\n",
    "\n",
    "# Adding the results to the master dataframe\n",
    "futbin_data = pd.concat([futbin_data, dummy_fields], axis=1)"
   ]
  },
  {
   "cell_type": "code",
   "execution_count": 85,
   "id": "edd75aea",
   "metadata": {},
   "outputs": [],
   "source": [
    "futbin_data.head()"
   ]
  },
  {
   "cell_type": "code",
   "execution_count": 86,
   "id": "8fac8b23",
   "metadata": {},
   "outputs": [],
   "source": [
    "# dropping the repeated variables\n",
    "futbin_data = futbin_data.drop(['Main_Position', 'Run_Style', 'Attack_Workrate', \n",
    "                        'Defense_Workrate', 'BodyType_Text', 'League_Cat', 'Nation_Cat'], 1)"
   ]
  },
  {
   "cell_type": "code",
   "execution_count": 87,
   "id": "1c6e2a73",
   "metadata": {},
   "outputs": [],
   "source": [
    "futbin_data.head()"
   ]
  },
  {
   "cell_type": "markdown",
   "id": "3276d3c1",
   "metadata": {},
   "source": [
    "#### Alt positins filling with missing value, and use it as a category"
   ]
  },
  {
   "cell_type": "markdown",
   "id": "0f666515",
   "metadata": {},
   "source": [
    "##### Alt_Pos_1"
   ]
  },
  {
   "cell_type": "code",
   "execution_count": 88,
   "id": "34aa2d0d",
   "metadata": {},
   "outputs": [],
   "source": [
    "futbin_data.Alt_Pos_1.isnull().sum()"
   ]
  },
  {
   "cell_type": "code",
   "execution_count": 89,
   "id": "5fdd7ee5",
   "metadata": {},
   "outputs": [],
   "source": [
    "futbin_data.Alt_Pos_1.fillna('missing', inplace=True)"
   ]
  },
  {
   "cell_type": "code",
   "execution_count": 90,
   "id": "abae8fb5",
   "metadata": {},
   "outputs": [],
   "source": [
    "futbin_data.Alt_Pos_1.isnull().sum()"
   ]
  },
  {
   "cell_type": "code",
   "execution_count": 91,
   "id": "058ddcbc",
   "metadata": {},
   "outputs": [],
   "source": [
    "futbin_data.Alt_Pos_1.value_counts()"
   ]
  },
  {
   "cell_type": "markdown",
   "id": "e44b324f",
   "metadata": {},
   "source": [
    "##### Alt_Pos_2"
   ]
  },
  {
   "cell_type": "code",
   "execution_count": 92,
   "id": "4fe41b68",
   "metadata": {},
   "outputs": [],
   "source": [
    "futbin_data.Alt_Pos_2.isnull().sum()"
   ]
  },
  {
   "cell_type": "code",
   "execution_count": 93,
   "id": "fa098060",
   "metadata": {},
   "outputs": [],
   "source": [
    "futbin_data.Alt_Pos_2.fillna('missing', inplace=True)"
   ]
  },
  {
   "cell_type": "code",
   "execution_count": 94,
   "id": "2285ae8c",
   "metadata": {},
   "outputs": [],
   "source": [
    "futbin_data.Alt_Pos_2.isnull().sum()"
   ]
  },
  {
   "cell_type": "code",
   "execution_count": 95,
   "id": "a2bd6573",
   "metadata": {},
   "outputs": [],
   "source": [
    "futbin_data.Alt_Pos_2.value_counts()"
   ]
  },
  {
   "cell_type": "markdown",
   "id": "f7c6add7",
   "metadata": {},
   "source": [
    "##### Alt_Pos_3"
   ]
  },
  {
   "cell_type": "code",
   "execution_count": 96,
   "id": "d3c16caa",
   "metadata": {},
   "outputs": [],
   "source": [
    "futbin_data.Alt_Pos_3.isnull().sum()"
   ]
  },
  {
   "cell_type": "code",
   "execution_count": 97,
   "id": "c90eebc5",
   "metadata": {},
   "outputs": [],
   "source": [
    "futbin_data.Alt_Pos_3.fillna('missing', inplace=True)"
   ]
  },
  {
   "cell_type": "code",
   "execution_count": 98,
   "id": "7c235c8a",
   "metadata": {},
   "outputs": [],
   "source": [
    "futbin_data.Alt_Pos_3.isnull().sum()"
   ]
  },
  {
   "cell_type": "code",
   "execution_count": 99,
   "id": "7ccd7d67",
   "metadata": {},
   "outputs": [],
   "source": [
    "futbin_data.Alt_Pos_3.value_counts()"
   ]
  },
  {
   "cell_type": "code",
   "execution_count": 100,
   "id": "9659ba3b",
   "metadata": {},
   "outputs": [],
   "source": [
    "futbin_data.head()"
   ]
  },
  {
   "cell_type": "markdown",
   "id": "3a035e21",
   "metadata": {},
   "source": [
    "#### Create categorical columns for the alt pos columns"
   ]
  },
  {
   "cell_type": "code",
   "execution_count": 101,
   "id": "aeb4a71e",
   "metadata": {},
   "outputs": [],
   "source": [
    "# Creating a dummy variable for the alt_pos categorical variables and dropping the first one.\n",
    "dummy_altpos = pd.get_dummies(futbin_data[['Alt_Pos_1', 'Alt_Pos_2', 'Alt_Pos_3']], drop_first=True)\n",
    "\n",
    "# Adding the results to the master dataframe\n",
    "futbin_data = pd.concat([futbin_data, dummy_altpos], axis=1)"
   ]
  },
  {
   "cell_type": "code",
   "execution_count": 102,
   "id": "c2b2347b",
   "metadata": {},
   "outputs": [],
   "source": [
    "futbin_data.head()"
   ]
  },
  {
   "cell_type": "code",
   "execution_count": 103,
   "id": "12aad0ae",
   "metadata": {},
   "outputs": [],
   "source": [
    "# dropping the repeated variables\n",
    "futbin_data = futbin_data.drop(['Alt_Pos_1', 'Alt_Pos_2', 'Alt_Pos_3'], 1)"
   ]
  },
  {
   "cell_type": "code",
   "execution_count": 104,
   "id": "23333388",
   "metadata": {
    "scrolled": true
   },
   "outputs": [],
   "source": [
    "futbin_data.head()"
   ]
  },
  {
   "cell_type": "markdown",
   "id": "70038cec",
   "metadata": {},
   "source": [
    "#### Gender column handling"
   ]
  },
  {
   "cell_type": "code",
   "execution_count": 105,
   "id": "2a409a96",
   "metadata": {},
   "outputs": [],
   "source": [
    "# Creating a dummy variable for some of the categorical variables and dropping the first one.\n",
    "dummy_fields = pd.get_dummies(futbin_data[['Gender']], drop_first=True)\n",
    "\n",
    "# Adding the results to the master dataframe\n",
    "futbin_data = pd.concat([futbin_data, dummy_fields], axis=1)"
   ]
  },
  {
   "cell_type": "code",
   "execution_count": 106,
   "id": "b1660eb3",
   "metadata": {},
   "outputs": [],
   "source": [
    "futbin_data.head()"
   ]
  },
  {
   "cell_type": "code",
   "execution_count": 107,
   "id": "8485a17d",
   "metadata": {},
   "outputs": [],
   "source": [
    "# dropping the repeated variables\n",
    "futbin_data = futbin_data.drop(['Gender'], 1)"
   ]
  },
  {
   "cell_type": "code",
   "execution_count": 108,
   "id": "43c1dde4",
   "metadata": {},
   "outputs": [],
   "source": [
    "futbin_data.head()"
   ]
  },
  {
   "cell_type": "code",
   "execution_count": 109,
   "id": "a31f7d69",
   "metadata": {},
   "outputs": [],
   "source": [
    "futbin_data.Gender_Male.value_counts()"
   ]
  },
  {
   "cell_type": "markdown",
   "id": "7f5a9076",
   "metadata": {},
   "source": [
    "In EA FC 24, Female players were introduced, there are 1302 female players next to the 7695 male players in the dataset."
   ]
  },
  {
   "cell_type": "markdown",
   "id": "8860b33b",
   "metadata": {},
   "source": [
    "### 4. Export final dataset"
   ]
  },
  {
   "cell_type": "code",
   "execution_count": 110,
   "id": "df6dac95",
   "metadata": {},
   "outputs": [],
   "source": [
    "csv_futbin = futbin_data.to_csv('futbin24.csv', index = False)\n",
    "print('\\nCSV String:\\n', csv_futbin)"
   ]
  },
  {
   "cell_type": "code",
   "execution_count": null,
   "id": "cbdba538",
   "metadata": {},
   "outputs": [],
   "source": []
  },
  {
   "cell_type": "code",
   "execution_count": null,
   "id": "3e771d66",
   "metadata": {},
   "outputs": [],
   "source": []
  }
 ],
 "metadata": {
  "kernelspec": {
   "display_name": "Python 3 (ipykernel)",
   "language": "python",
   "name": "python3"
  },
  "language_info": {
   "codemirror_mode": {
    "name": "ipython",
    "version": 3
   },
   "file_extension": ".py",
   "mimetype": "text/x-python",
   "name": "python",
   "nbconvert_exporter": "python",
   "pygments_lexer": "ipython3",
   "version": "3.8.13"
  }
 },
 "nbformat": 4,
 "nbformat_minor": 5
}
