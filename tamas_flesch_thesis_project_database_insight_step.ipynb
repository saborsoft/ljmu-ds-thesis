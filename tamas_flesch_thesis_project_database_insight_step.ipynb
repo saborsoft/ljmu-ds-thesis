{
 "cells": [
  {
   "cell_type": "markdown",
   "id": "5ecc501d",
   "metadata": {},
   "source": [
    "# Tamas Flesch Thesis - Database insight step"
   ]
  },
  {
   "cell_type": "markdown",
   "id": "4961e531",
   "metadata": {},
   "source": [
    "This notebook is about to investigate the database, what are the key factors in the data, what are the distributions of the columns and so on."
   ]
  },
  {
   "cell_type": "code",
   "execution_count": 1,
   "id": "fe54b153",
   "metadata": {},
   "outputs": [],
   "source": [
    "# Suppressing Warnings\n",
    "import warnings\n",
    "warnings.filterwarnings('ignore')"
   ]
  },
  {
   "cell_type": "code",
   "execution_count": 2,
   "id": "61f25928",
   "metadata": {},
   "outputs": [],
   "source": [
    "# Importing Pandas and NumPy\n",
    "import pandas as pd, numpy as np\n",
    "\n",
    "import matplotlib.pyplot as plt\n",
    "import seaborn as sns\n",
    "\n",
    "from sklearn.model_selection import train_test_split\n",
    "from sklearn.preprocessing import StandardScaler\n",
    "from sklearn.linear_model import LogisticRegression\n",
    "from sklearn.feature_selection import RFE\n",
    "\n",
    "import statsmodels.api as sm"
   ]
  },
  {
   "cell_type": "code",
   "execution_count": 3,
   "id": "f348f69b",
   "metadata": {},
   "outputs": [],
   "source": [
    "pd.options.display.max_columns = None\n",
    "pd.options.display.max_rows = None"
   ]
  },
  {
   "cell_type": "code",
   "execution_count": 7,
   "id": "00e19e1e",
   "metadata": {},
   "outputs": [
    {
     "data": {
      "text/html": [
       "<div>\n",
       "<style scoped>\n",
       "    .dataframe tbody tr th:only-of-type {\n",
       "        vertical-align: middle;\n",
       "    }\n",
       "\n",
       "    .dataframe tbody tr th {\n",
       "        vertical-align: top;\n",
       "    }\n",
       "\n",
       "    .dataframe thead th {\n",
       "        text-align: right;\n",
       "    }\n",
       "</style>\n",
       "<table border=\"1\" class=\"dataframe\">\n",
       "  <thead>\n",
       "    <tr style=\"text-align: right;\">\n",
       "      <th></th>\n",
       "      <th>Name</th>\n",
       "      <th>Rating</th>\n",
       "      <th>Price</th>\n",
       "      <th>Skills_Star</th>\n",
       "      <th>Weak_Foot_Star</th>\n",
       "      <th>Pace / Diving</th>\n",
       "      <th>Shooting / Handling</th>\n",
       "      <th>Passing / Kicking</th>\n",
       "      <th>Dribbling / Reflexes</th>\n",
       "      <th>Defense / Speed</th>\n",
       "      <th>Physical / Positioning</th>\n",
       "      <th>Popularity</th>\n",
       "      <th>Base_Stats</th>\n",
       "      <th>Ingame_Stats</th>\n",
       "      <th>Height_in_cm</th>\n",
       "      <th>BodyType_Weight</th>\n",
       "      <th>Club_Hero</th>\n",
       "      <th>Alt_Pos_Count</th>\n",
       "      <th>Main_Position_CB</th>\n",
       "      <th>Main_Position_CDM</th>\n",
       "      <th>Main_Position_CF</th>\n",
       "      <th>Main_Position_CM</th>\n",
       "      <th>Main_Position_GK</th>\n",
       "      <th>Main_Position_LB</th>\n",
       "      <th>Main_Position_LM</th>\n",
       "      <th>Main_Position_LW</th>\n",
       "      <th>Main_Position_LWB</th>\n",
       "      <th>Main_Position_RB</th>\n",
       "      <th>Main_Position_RM</th>\n",
       "      <th>Main_Position_RW</th>\n",
       "      <th>Main_Position_RWB</th>\n",
       "      <th>Main_Position_ST</th>\n",
       "      <th>Run_Style_Controlled Explosive</th>\n",
       "      <th>Run_Style_Controlled Lengthy</th>\n",
       "      <th>Run_Style_Explosive</th>\n",
       "      <th>Run_Style_Lengthy</th>\n",
       "      <th>Run_Style_Mostly Explosive</th>\n",
       "      <th>Run_Style_Mostly Lengthy</th>\n",
       "      <th>Attack_Workrate_L</th>\n",
       "      <th>Attack_Workrate_M</th>\n",
       "      <th>Defense_Workrate_L</th>\n",
       "      <th>Defense_Workrate_M</th>\n",
       "      <th>BodyType_Text_Avg &amp; Normal</th>\n",
       "      <th>BodyType_Text_Avg &amp; Stocky</th>\n",
       "      <th>BodyType_Text_CR7</th>\n",
       "      <th>BodyType_Text_Courtois</th>\n",
       "      <th>BodyType_Text_Messi</th>\n",
       "      <th>BodyType_Text_Neymar</th>\n",
       "      <th>BodyType_Text_R9</th>\n",
       "      <th>BodyType_Text_Ronaldinho</th>\n",
       "      <th>BodyType_Text_Salah</th>\n",
       "      <th>BodyType_Text_Shaqiri</th>\n",
       "      <th>BodyType_Text_Short &amp; Lean</th>\n",
       "      <th>BodyType_Text_Short &amp; Normal</th>\n",
       "      <th>BodyType_Text_Short &amp; Stocky</th>\n",
       "      <th>BodyType_Text_Tall &amp; Lean</th>\n",
       "      <th>BodyType_Text_Tall &amp; Normal</th>\n",
       "      <th>BodyType_Text_Tall &amp; Stocky</th>\n",
       "      <th>BodyType_Text_Unique</th>\n",
       "      <th>League_Cat_Icons</th>\n",
       "      <th>League_Cat_LALIGA EA SPORTS</th>\n",
       "      <th>League_Cat_Ligue 1 Uber Eats</th>\n",
       "      <th>League_Cat_MLS</th>\n",
       "      <th>League_Cat_Other</th>\n",
       "      <th>League_Cat_Premier League</th>\n",
       "      <th>League_Cat_Serie A TIM</th>\n",
       "      <th>Nation_Cat_Brazil</th>\n",
       "      <th>Nation_Cat_England</th>\n",
       "      <th>Nation_Cat_France</th>\n",
       "      <th>Nation_Cat_Germany</th>\n",
       "      <th>Nation_Cat_Holland</th>\n",
       "      <th>Nation_Cat_Italy</th>\n",
       "      <th>Nation_Cat_Other</th>\n",
       "      <th>Nation_Cat_Portugal</th>\n",
       "      <th>Nation_Cat_Spain</th>\n",
       "      <th>Nation_Cat_United States</th>\n",
       "      <th>Alt_Pos_1_CB</th>\n",
       "      <th>Alt_Pos_1_CDM</th>\n",
       "      <th>Alt_Pos_1_CF</th>\n",
       "      <th>Alt_Pos_1_CM</th>\n",
       "      <th>Alt_Pos_1_LB</th>\n",
       "      <th>Alt_Pos_1_LM</th>\n",
       "      <th>Alt_Pos_1_LW</th>\n",
       "      <th>Alt_Pos_1_LWB</th>\n",
       "      <th>Alt_Pos_1_RB</th>\n",
       "      <th>Alt_Pos_1_RM</th>\n",
       "      <th>Alt_Pos_1_RW</th>\n",
       "      <th>Alt_Pos_1_RWB</th>\n",
       "      <th>Alt_Pos_1_ST</th>\n",
       "      <th>Alt_Pos_1_missing</th>\n",
       "      <th>Alt_Pos_2_CB</th>\n",
       "      <th>Alt_Pos_2_CDM</th>\n",
       "      <th>Alt_Pos_2_CF</th>\n",
       "      <th>Alt_Pos_2_CM</th>\n",
       "      <th>Alt_Pos_2_LB</th>\n",
       "      <th>Alt_Pos_2_LM</th>\n",
       "      <th>Alt_Pos_2_LW</th>\n",
       "      <th>Alt_Pos_2_LWB</th>\n",
       "      <th>Alt_Pos_2_RB</th>\n",
       "      <th>Alt_Pos_2_RM</th>\n",
       "      <th>Alt_Pos_2_RW</th>\n",
       "      <th>Alt_Pos_2_ST</th>\n",
       "      <th>Alt_Pos_2_missing</th>\n",
       "      <th>Alt_Pos_3_CDM</th>\n",
       "      <th>Alt_Pos_3_CF</th>\n",
       "      <th>Alt_Pos_3_CM</th>\n",
       "      <th>Alt_Pos_3_LB</th>\n",
       "      <th>Alt_Pos_3_LM</th>\n",
       "      <th>Alt_Pos_3_LW</th>\n",
       "      <th>Alt_Pos_3_LWB</th>\n",
       "      <th>Alt_Pos_3_RM</th>\n",
       "      <th>Alt_Pos_3_RW</th>\n",
       "      <th>Alt_Pos_3_ST</th>\n",
       "      <th>Alt_Pos_3_missing</th>\n",
       "      <th>Gender_Male</th>\n",
       "    </tr>\n",
       "  </thead>\n",
       "  <tbody>\n",
       "    <tr>\n",
       "      <th>0</th>\n",
       "      <td>Erling Haaland</td>\n",
       "      <td>97</td>\n",
       "      <td>1980000.0</td>\n",
       "      <td>4</td>\n",
       "      <td>5</td>\n",
       "      <td>96.0</td>\n",
       "      <td>98</td>\n",
       "      <td>80</td>\n",
       "      <td>91</td>\n",
       "      <td>56</td>\n",
       "      <td>97</td>\n",
       "      <td>1645</td>\n",
       "      <td>518</td>\n",
       "      <td>2481</td>\n",
       "      <td>195</td>\n",
       "      <td>94</td>\n",
       "      <td>0</td>\n",
       "      <td>1</td>\n",
       "      <td>0</td>\n",
       "      <td>0</td>\n",
       "      <td>0</td>\n",
       "      <td>0</td>\n",
       "      <td>0</td>\n",
       "      <td>0</td>\n",
       "      <td>0</td>\n",
       "      <td>0</td>\n",
       "      <td>0</td>\n",
       "      <td>0</td>\n",
       "      <td>0</td>\n",
       "      <td>0</td>\n",
       "      <td>0</td>\n",
       "      <td>1</td>\n",
       "      <td>0</td>\n",
       "      <td>1</td>\n",
       "      <td>0</td>\n",
       "      <td>0</td>\n",
       "      <td>0</td>\n",
       "      <td>0</td>\n",
       "      <td>0</td>\n",
       "      <td>0</td>\n",
       "      <td>0</td>\n",
       "      <td>1</td>\n",
       "      <td>0</td>\n",
       "      <td>0</td>\n",
       "      <td>0</td>\n",
       "      <td>0</td>\n",
       "      <td>0</td>\n",
       "      <td>0</td>\n",
       "      <td>0</td>\n",
       "      <td>0</td>\n",
       "      <td>0</td>\n",
       "      <td>0</td>\n",
       "      <td>0</td>\n",
       "      <td>0</td>\n",
       "      <td>0</td>\n",
       "      <td>0</td>\n",
       "      <td>0</td>\n",
       "      <td>0</td>\n",
       "      <td>1</td>\n",
       "      <td>0</td>\n",
       "      <td>0</td>\n",
       "      <td>0</td>\n",
       "      <td>0</td>\n",
       "      <td>0</td>\n",
       "      <td>1</td>\n",
       "      <td>0</td>\n",
       "      <td>0</td>\n",
       "      <td>0</td>\n",
       "      <td>0</td>\n",
       "      <td>0</td>\n",
       "      <td>0</td>\n",
       "      <td>0</td>\n",
       "      <td>1</td>\n",
       "      <td>0</td>\n",
       "      <td>0</td>\n",
       "      <td>0</td>\n",
       "      <td>0</td>\n",
       "      <td>0</td>\n",
       "      <td>1</td>\n",
       "      <td>0</td>\n",
       "      <td>0</td>\n",
       "      <td>0</td>\n",
       "      <td>0</td>\n",
       "      <td>0</td>\n",
       "      <td>0</td>\n",
       "      <td>0</td>\n",
       "      <td>0</td>\n",
       "      <td>0</td>\n",
       "      <td>0</td>\n",
       "      <td>0</td>\n",
       "      <td>0</td>\n",
       "      <td>0</td>\n",
       "      <td>0</td>\n",
       "      <td>0</td>\n",
       "      <td>0</td>\n",
       "      <td>0</td>\n",
       "      <td>0</td>\n",
       "      <td>0</td>\n",
       "      <td>0</td>\n",
       "      <td>0</td>\n",
       "      <td>0</td>\n",
       "      <td>0</td>\n",
       "      <td>1</td>\n",
       "      <td>0</td>\n",
       "      <td>0</td>\n",
       "      <td>0</td>\n",
       "      <td>0</td>\n",
       "      <td>0</td>\n",
       "      <td>0</td>\n",
       "      <td>0</td>\n",
       "      <td>0</td>\n",
       "      <td>0</td>\n",
       "      <td>0</td>\n",
       "      <td>1</td>\n",
       "      <td>1</td>\n",
       "    </tr>\n",
       "    <tr>\n",
       "      <th>1</th>\n",
       "      <td>Kylian Mbappé</td>\n",
       "      <td>97</td>\n",
       "      <td>6250000.0</td>\n",
       "      <td>5</td>\n",
       "      <td>4</td>\n",
       "      <td>99.0</td>\n",
       "      <td>96</td>\n",
       "      <td>88</td>\n",
       "      <td>97</td>\n",
       "      <td>47</td>\n",
       "      <td>88</td>\n",
       "      <td>1651</td>\n",
       "      <td>515</td>\n",
       "      <td>2465</td>\n",
       "      <td>182</td>\n",
       "      <td>75</td>\n",
       "      <td>0</td>\n",
       "      <td>2</td>\n",
       "      <td>0</td>\n",
       "      <td>0</td>\n",
       "      <td>0</td>\n",
       "      <td>0</td>\n",
       "      <td>0</td>\n",
       "      <td>0</td>\n",
       "      <td>0</td>\n",
       "      <td>0</td>\n",
       "      <td>0</td>\n",
       "      <td>0</td>\n",
       "      <td>0</td>\n",
       "      <td>0</td>\n",
       "      <td>0</td>\n",
       "      <td>1</td>\n",
       "      <td>1</td>\n",
       "      <td>0</td>\n",
       "      <td>0</td>\n",
       "      <td>0</td>\n",
       "      <td>0</td>\n",
       "      <td>0</td>\n",
       "      <td>0</td>\n",
       "      <td>0</td>\n",
       "      <td>1</td>\n",
       "      <td>0</td>\n",
       "      <td>0</td>\n",
       "      <td>0</td>\n",
       "      <td>0</td>\n",
       "      <td>0</td>\n",
       "      <td>0</td>\n",
       "      <td>0</td>\n",
       "      <td>0</td>\n",
       "      <td>0</td>\n",
       "      <td>0</td>\n",
       "      <td>0</td>\n",
       "      <td>0</td>\n",
       "      <td>0</td>\n",
       "      <td>0</td>\n",
       "      <td>0</td>\n",
       "      <td>0</td>\n",
       "      <td>0</td>\n",
       "      <td>1</td>\n",
       "      <td>0</td>\n",
       "      <td>0</td>\n",
       "      <td>1</td>\n",
       "      <td>0</td>\n",
       "      <td>0</td>\n",
       "      <td>0</td>\n",
       "      <td>0</td>\n",
       "      <td>0</td>\n",
       "      <td>0</td>\n",
       "      <td>1</td>\n",
       "      <td>0</td>\n",
       "      <td>0</td>\n",
       "      <td>0</td>\n",
       "      <td>0</td>\n",
       "      <td>0</td>\n",
       "      <td>0</td>\n",
       "      <td>0</td>\n",
       "      <td>0</td>\n",
       "      <td>0</td>\n",
       "      <td>1</td>\n",
       "      <td>0</td>\n",
       "      <td>0</td>\n",
       "      <td>0</td>\n",
       "      <td>0</td>\n",
       "      <td>0</td>\n",
       "      <td>0</td>\n",
       "      <td>0</td>\n",
       "      <td>0</td>\n",
       "      <td>0</td>\n",
       "      <td>0</td>\n",
       "      <td>0</td>\n",
       "      <td>0</td>\n",
       "      <td>0</td>\n",
       "      <td>0</td>\n",
       "      <td>0</td>\n",
       "      <td>0</td>\n",
       "      <td>0</td>\n",
       "      <td>1</td>\n",
       "      <td>0</td>\n",
       "      <td>0</td>\n",
       "      <td>0</td>\n",
       "      <td>0</td>\n",
       "      <td>0</td>\n",
       "      <td>0</td>\n",
       "      <td>0</td>\n",
       "      <td>0</td>\n",
       "      <td>0</td>\n",
       "      <td>0</td>\n",
       "      <td>0</td>\n",
       "      <td>0</td>\n",
       "      <td>0</td>\n",
       "      <td>0</td>\n",
       "      <td>0</td>\n",
       "      <td>0</td>\n",
       "      <td>1</td>\n",
       "      <td>1</td>\n",
       "    </tr>\n",
       "    <tr>\n",
       "      <th>2</th>\n",
       "      <td>Lionel Messi</td>\n",
       "      <td>97</td>\n",
       "      <td>2830000.0</td>\n",
       "      <td>5</td>\n",
       "      <td>4</td>\n",
       "      <td>91.0</td>\n",
       "      <td>96</td>\n",
       "      <td>97</td>\n",
       "      <td>98</td>\n",
       "      <td>40</td>\n",
       "      <td>77</td>\n",
       "      <td>-4941</td>\n",
       "      <td>499</td>\n",
       "      <td>2430</td>\n",
       "      <td>169</td>\n",
       "      <td>67</td>\n",
       "      <td>0</td>\n",
       "      <td>3</td>\n",
       "      <td>0</td>\n",
       "      <td>0</td>\n",
       "      <td>1</td>\n",
       "      <td>0</td>\n",
       "      <td>0</td>\n",
       "      <td>0</td>\n",
       "      <td>0</td>\n",
       "      <td>0</td>\n",
       "      <td>0</td>\n",
       "      <td>0</td>\n",
       "      <td>0</td>\n",
       "      <td>0</td>\n",
       "      <td>0</td>\n",
       "      <td>0</td>\n",
       "      <td>0</td>\n",
       "      <td>0</td>\n",
       "      <td>0</td>\n",
       "      <td>0</td>\n",
       "      <td>1</td>\n",
       "      <td>0</td>\n",
       "      <td>0</td>\n",
       "      <td>1</td>\n",
       "      <td>1</td>\n",
       "      <td>0</td>\n",
       "      <td>0</td>\n",
       "      <td>0</td>\n",
       "      <td>0</td>\n",
       "      <td>0</td>\n",
       "      <td>1</td>\n",
       "      <td>0</td>\n",
       "      <td>0</td>\n",
       "      <td>0</td>\n",
       "      <td>0</td>\n",
       "      <td>0</td>\n",
       "      <td>0</td>\n",
       "      <td>0</td>\n",
       "      <td>0</td>\n",
       "      <td>0</td>\n",
       "      <td>0</td>\n",
       "      <td>0</td>\n",
       "      <td>0</td>\n",
       "      <td>0</td>\n",
       "      <td>0</td>\n",
       "      <td>0</td>\n",
       "      <td>1</td>\n",
       "      <td>0</td>\n",
       "      <td>0</td>\n",
       "      <td>0</td>\n",
       "      <td>0</td>\n",
       "      <td>0</td>\n",
       "      <td>0</td>\n",
       "      <td>0</td>\n",
       "      <td>0</td>\n",
       "      <td>0</td>\n",
       "      <td>0</td>\n",
       "      <td>0</td>\n",
       "      <td>0</td>\n",
       "      <td>0</td>\n",
       "      <td>0</td>\n",
       "      <td>0</td>\n",
       "      <td>0</td>\n",
       "      <td>0</td>\n",
       "      <td>0</td>\n",
       "      <td>0</td>\n",
       "      <td>0</td>\n",
       "      <td>0</td>\n",
       "      <td>0</td>\n",
       "      <td>0</td>\n",
       "      <td>0</td>\n",
       "      <td>0</td>\n",
       "      <td>0</td>\n",
       "      <td>0</td>\n",
       "      <td>0</td>\n",
       "      <td>0</td>\n",
       "      <td>0</td>\n",
       "      <td>0</td>\n",
       "      <td>0</td>\n",
       "      <td>0</td>\n",
       "      <td>0</td>\n",
       "      <td>0</td>\n",
       "      <td>0</td>\n",
       "      <td>0</td>\n",
       "      <td>1</td>\n",
       "      <td>0</td>\n",
       "      <td>0</td>\n",
       "      <td>0</td>\n",
       "      <td>0</td>\n",
       "      <td>0</td>\n",
       "      <td>0</td>\n",
       "      <td>0</td>\n",
       "      <td>0</td>\n",
       "      <td>0</td>\n",
       "      <td>0</td>\n",
       "      <td>0</td>\n",
       "      <td>1</td>\n",
       "      <td>0</td>\n",
       "      <td>1</td>\n",
       "    </tr>\n",
       "    <tr>\n",
       "      <th>3</th>\n",
       "      <td>Pelé</td>\n",
       "      <td>97</td>\n",
       "      <td>6400000.0</td>\n",
       "      <td>5</td>\n",
       "      <td>5</td>\n",
       "      <td>95.0</td>\n",
       "      <td>96</td>\n",
       "      <td>92</td>\n",
       "      <td>96</td>\n",
       "      <td>60</td>\n",
       "      <td>81</td>\n",
       "      <td>272</td>\n",
       "      <td>520</td>\n",
       "      <td>2532</td>\n",
       "      <td>173</td>\n",
       "      <td>70</td>\n",
       "      <td>1</td>\n",
       "      <td>2</td>\n",
       "      <td>0</td>\n",
       "      <td>0</td>\n",
       "      <td>0</td>\n",
       "      <td>0</td>\n",
       "      <td>0</td>\n",
       "      <td>0</td>\n",
       "      <td>0</td>\n",
       "      <td>0</td>\n",
       "      <td>0</td>\n",
       "      <td>0</td>\n",
       "      <td>0</td>\n",
       "      <td>0</td>\n",
       "      <td>0</td>\n",
       "      <td>0</td>\n",
       "      <td>0</td>\n",
       "      <td>0</td>\n",
       "      <td>0</td>\n",
       "      <td>0</td>\n",
       "      <td>1</td>\n",
       "      <td>0</td>\n",
       "      <td>0</td>\n",
       "      <td>0</td>\n",
       "      <td>0</td>\n",
       "      <td>1</td>\n",
       "      <td>0</td>\n",
       "      <td>0</td>\n",
       "      <td>0</td>\n",
       "      <td>0</td>\n",
       "      <td>0</td>\n",
       "      <td>0</td>\n",
       "      <td>0</td>\n",
       "      <td>0</td>\n",
       "      <td>0</td>\n",
       "      <td>0</td>\n",
       "      <td>0</td>\n",
       "      <td>0</td>\n",
       "      <td>0</td>\n",
       "      <td>0</td>\n",
       "      <td>0</td>\n",
       "      <td>0</td>\n",
       "      <td>1</td>\n",
       "      <td>1</td>\n",
       "      <td>0</td>\n",
       "      <td>0</td>\n",
       "      <td>0</td>\n",
       "      <td>0</td>\n",
       "      <td>0</td>\n",
       "      <td>0</td>\n",
       "      <td>1</td>\n",
       "      <td>0</td>\n",
       "      <td>0</td>\n",
       "      <td>0</td>\n",
       "      <td>0</td>\n",
       "      <td>0</td>\n",
       "      <td>0</td>\n",
       "      <td>0</td>\n",
       "      <td>0</td>\n",
       "      <td>0</td>\n",
       "      <td>0</td>\n",
       "      <td>0</td>\n",
       "      <td>1</td>\n",
       "      <td>0</td>\n",
       "      <td>0</td>\n",
       "      <td>0</td>\n",
       "      <td>0</td>\n",
       "      <td>0</td>\n",
       "      <td>0</td>\n",
       "      <td>0</td>\n",
       "      <td>0</td>\n",
       "      <td>0</td>\n",
       "      <td>0</td>\n",
       "      <td>0</td>\n",
       "      <td>0</td>\n",
       "      <td>0</td>\n",
       "      <td>0</td>\n",
       "      <td>0</td>\n",
       "      <td>0</td>\n",
       "      <td>0</td>\n",
       "      <td>0</td>\n",
       "      <td>0</td>\n",
       "      <td>0</td>\n",
       "      <td>0</td>\n",
       "      <td>0</td>\n",
       "      <td>1</td>\n",
       "      <td>0</td>\n",
       "      <td>0</td>\n",
       "      <td>0</td>\n",
       "      <td>0</td>\n",
       "      <td>0</td>\n",
       "      <td>0</td>\n",
       "      <td>0</td>\n",
       "      <td>0</td>\n",
       "      <td>0</td>\n",
       "      <td>0</td>\n",
       "      <td>0</td>\n",
       "      <td>1</td>\n",
       "      <td>1</td>\n",
       "    </tr>\n",
       "    <tr>\n",
       "      <th>4</th>\n",
       "      <td>Johan Cruyff</td>\n",
       "      <td>97</td>\n",
       "      <td>3550000.0</td>\n",
       "      <td>5</td>\n",
       "      <td>5</td>\n",
       "      <td>93.0</td>\n",
       "      <td>95</td>\n",
       "      <td>93</td>\n",
       "      <td>97</td>\n",
       "      <td>50</td>\n",
       "      <td>80</td>\n",
       "      <td>159</td>\n",
       "      <td>508</td>\n",
       "      <td>2460</td>\n",
       "      <td>180</td>\n",
       "      <td>71</td>\n",
       "      <td>1</td>\n",
       "      <td>1</td>\n",
       "      <td>0</td>\n",
       "      <td>0</td>\n",
       "      <td>1</td>\n",
       "      <td>0</td>\n",
       "      <td>0</td>\n",
       "      <td>0</td>\n",
       "      <td>0</td>\n",
       "      <td>0</td>\n",
       "      <td>0</td>\n",
       "      <td>0</td>\n",
       "      <td>0</td>\n",
       "      <td>0</td>\n",
       "      <td>0</td>\n",
       "      <td>0</td>\n",
       "      <td>0</td>\n",
       "      <td>0</td>\n",
       "      <td>0</td>\n",
       "      <td>0</td>\n",
       "      <td>1</td>\n",
       "      <td>0</td>\n",
       "      <td>0</td>\n",
       "      <td>0</td>\n",
       "      <td>1</td>\n",
       "      <td>0</td>\n",
       "      <td>0</td>\n",
       "      <td>0</td>\n",
       "      <td>0</td>\n",
       "      <td>0</td>\n",
       "      <td>0</td>\n",
       "      <td>0</td>\n",
       "      <td>0</td>\n",
       "      <td>0</td>\n",
       "      <td>0</td>\n",
       "      <td>0</td>\n",
       "      <td>0</td>\n",
       "      <td>0</td>\n",
       "      <td>0</td>\n",
       "      <td>0</td>\n",
       "      <td>0</td>\n",
       "      <td>0</td>\n",
       "      <td>0</td>\n",
       "      <td>1</td>\n",
       "      <td>0</td>\n",
       "      <td>0</td>\n",
       "      <td>0</td>\n",
       "      <td>0</td>\n",
       "      <td>0</td>\n",
       "      <td>0</td>\n",
       "      <td>0</td>\n",
       "      <td>0</td>\n",
       "      <td>0</td>\n",
       "      <td>0</td>\n",
       "      <td>1</td>\n",
       "      <td>0</td>\n",
       "      <td>0</td>\n",
       "      <td>0</td>\n",
       "      <td>0</td>\n",
       "      <td>0</td>\n",
       "      <td>0</td>\n",
       "      <td>0</td>\n",
       "      <td>0</td>\n",
       "      <td>0</td>\n",
       "      <td>0</td>\n",
       "      <td>0</td>\n",
       "      <td>0</td>\n",
       "      <td>0</td>\n",
       "      <td>0</td>\n",
       "      <td>0</td>\n",
       "      <td>0</td>\n",
       "      <td>0</td>\n",
       "      <td>1</td>\n",
       "      <td>0</td>\n",
       "      <td>0</td>\n",
       "      <td>0</td>\n",
       "      <td>0</td>\n",
       "      <td>0</td>\n",
       "      <td>0</td>\n",
       "      <td>0</td>\n",
       "      <td>0</td>\n",
       "      <td>0</td>\n",
       "      <td>0</td>\n",
       "      <td>0</td>\n",
       "      <td>0</td>\n",
       "      <td>0</td>\n",
       "      <td>1</td>\n",
       "      <td>0</td>\n",
       "      <td>0</td>\n",
       "      <td>0</td>\n",
       "      <td>0</td>\n",
       "      <td>0</td>\n",
       "      <td>0</td>\n",
       "      <td>0</td>\n",
       "      <td>0</td>\n",
       "      <td>0</td>\n",
       "      <td>0</td>\n",
       "      <td>1</td>\n",
       "      <td>1</td>\n",
       "    </tr>\n",
       "  </tbody>\n",
       "</table>\n",
       "</div>"
      ],
      "text/plain": [
       "             Name  Rating      Price  Skills_Star  Weak_Foot_Star  \\\n",
       "0  Erling Haaland      97  1980000.0            4               5   \n",
       "1   Kylian Mbappé      97  6250000.0            5               4   \n",
       "2    Lionel Messi      97  2830000.0            5               4   \n",
       "3            Pelé      97  6400000.0            5               5   \n",
       "4    Johan Cruyff      97  3550000.0            5               5   \n",
       "\n",
       "   Pace / Diving  Shooting / Handling  Passing / Kicking  \\\n",
       "0           96.0                   98                 80   \n",
       "1           99.0                   96                 88   \n",
       "2           91.0                   96                 97   \n",
       "3           95.0                   96                 92   \n",
       "4           93.0                   95                 93   \n",
       "\n",
       "   Dribbling / Reflexes  Defense / Speed  Physical / Positioning  Popularity  \\\n",
       "0                    91               56                      97        1645   \n",
       "1                    97               47                      88        1651   \n",
       "2                    98               40                      77       -4941   \n",
       "3                    96               60                      81         272   \n",
       "4                    97               50                      80         159   \n",
       "\n",
       "   Base_Stats  Ingame_Stats  Height_in_cm  BodyType_Weight  Club_Hero  \\\n",
       "0         518          2481           195               94          0   \n",
       "1         515          2465           182               75          0   \n",
       "2         499          2430           169               67          0   \n",
       "3         520          2532           173               70          1   \n",
       "4         508          2460           180               71          1   \n",
       "\n",
       "   Alt_Pos_Count  Main_Position_CB  Main_Position_CDM  Main_Position_CF  \\\n",
       "0              1                 0                  0                 0   \n",
       "1              2                 0                  0                 0   \n",
       "2              3                 0                  0                 1   \n",
       "3              2                 0                  0                 0   \n",
       "4              1                 0                  0                 1   \n",
       "\n",
       "   Main_Position_CM  Main_Position_GK  Main_Position_LB  Main_Position_LM  \\\n",
       "0                 0                 0                 0                 0   \n",
       "1                 0                 0                 0                 0   \n",
       "2                 0                 0                 0                 0   \n",
       "3                 0                 0                 0                 0   \n",
       "4                 0                 0                 0                 0   \n",
       "\n",
       "   Main_Position_LW  Main_Position_LWB  Main_Position_RB  Main_Position_RM  \\\n",
       "0                 0                  0                 0                 0   \n",
       "1                 0                  0                 0                 0   \n",
       "2                 0                  0                 0                 0   \n",
       "3                 0                  0                 0                 0   \n",
       "4                 0                  0                 0                 0   \n",
       "\n",
       "   Main_Position_RW  Main_Position_RWB  Main_Position_ST  \\\n",
       "0                 0                  0                 1   \n",
       "1                 0                  0                 1   \n",
       "2                 0                  0                 0   \n",
       "3                 0                  0                 0   \n",
       "4                 0                  0                 0   \n",
       "\n",
       "   Run_Style_Controlled Explosive  Run_Style_Controlled Lengthy  \\\n",
       "0                               0                             1   \n",
       "1                               1                             0   \n",
       "2                               0                             0   \n",
       "3                               0                             0   \n",
       "4                               0                             0   \n",
       "\n",
       "   Run_Style_Explosive  Run_Style_Lengthy  Run_Style_Mostly Explosive  \\\n",
       "0                    0                  0                           0   \n",
       "1                    0                  0                           0   \n",
       "2                    0                  0                           1   \n",
       "3                    0                  0                           1   \n",
       "4                    0                  0                           1   \n",
       "\n",
       "   Run_Style_Mostly Lengthy  Attack_Workrate_L  Attack_Workrate_M  \\\n",
       "0                         0                  0                  0   \n",
       "1                         0                  0                  0   \n",
       "2                         0                  0                  1   \n",
       "3                         0                  0                  0   \n",
       "4                         0                  0                  0   \n",
       "\n",
       "   Defense_Workrate_L  Defense_Workrate_M  BodyType_Text_Avg & Normal  \\\n",
       "0                   0                   1                           0   \n",
       "1                   1                   0                           0   \n",
       "2                   1                   0                           0   \n",
       "3                   0                   1                           0   \n",
       "4                   1                   0                           0   \n",
       "\n",
       "   BodyType_Text_Avg & Stocky  BodyType_Text_CR7  BodyType_Text_Courtois  \\\n",
       "0                           0                  0                       0   \n",
       "1                           0                  0                       0   \n",
       "2                           0                  0                       0   \n",
       "3                           0                  0                       0   \n",
       "4                           0                  0                       0   \n",
       "\n",
       "   BodyType_Text_Messi  BodyType_Text_Neymar  BodyType_Text_R9  \\\n",
       "0                    0                     0                 0   \n",
       "1                    0                     0                 0   \n",
       "2                    1                     0                 0   \n",
       "3                    0                     0                 0   \n",
       "4                    0                     0                 0   \n",
       "\n",
       "   BodyType_Text_Ronaldinho  BodyType_Text_Salah  BodyType_Text_Shaqiri  \\\n",
       "0                         0                    0                      0   \n",
       "1                         0                    0                      0   \n",
       "2                         0                    0                      0   \n",
       "3                         0                    0                      0   \n",
       "4                         0                    0                      0   \n",
       "\n",
       "   BodyType_Text_Short & Lean  BodyType_Text_Short & Normal  \\\n",
       "0                           0                             0   \n",
       "1                           0                             0   \n",
       "2                           0                             0   \n",
       "3                           0                             0   \n",
       "4                           0                             0   \n",
       "\n",
       "   BodyType_Text_Short & Stocky  BodyType_Text_Tall & Lean  \\\n",
       "0                             0                          0   \n",
       "1                             0                          0   \n",
       "2                             0                          0   \n",
       "3                             0                          0   \n",
       "4                             0                          0   \n",
       "\n",
       "   BodyType_Text_Tall & Normal  BodyType_Text_Tall & Stocky  \\\n",
       "0                            0                            0   \n",
       "1                            0                            0   \n",
       "2                            0                            0   \n",
       "3                            0                            0   \n",
       "4                            0                            0   \n",
       "\n",
       "   BodyType_Text_Unique  League_Cat_Icons  League_Cat_LALIGA EA SPORTS  \\\n",
       "0                     1                 0                            0   \n",
       "1                     1                 0                            0   \n",
       "2                     0                 0                            0   \n",
       "3                     1                 1                            0   \n",
       "4                     0                 1                            0   \n",
       "\n",
       "   League_Cat_Ligue 1 Uber Eats  League_Cat_MLS  League_Cat_Other  \\\n",
       "0                             0               0                 0   \n",
       "1                             1               0                 0   \n",
       "2                             0               1                 0   \n",
       "3                             0               0                 0   \n",
       "4                             0               0                 0   \n",
       "\n",
       "   League_Cat_Premier League  League_Cat_Serie A TIM  Nation_Cat_Brazil  \\\n",
       "0                          1                       0                  0   \n",
       "1                          0                       0                  0   \n",
       "2                          0                       0                  0   \n",
       "3                          0                       0                  1   \n",
       "4                          0                       0                  0   \n",
       "\n",
       "   Nation_Cat_England  Nation_Cat_France  Nation_Cat_Germany  \\\n",
       "0                   0                  0                   0   \n",
       "1                   0                  1                   0   \n",
       "2                   0                  0                   0   \n",
       "3                   0                  0                   0   \n",
       "4                   0                  0                   0   \n",
       "\n",
       "   Nation_Cat_Holland  Nation_Cat_Italy  Nation_Cat_Other  \\\n",
       "0                   0                 0                 1   \n",
       "1                   0                 0                 0   \n",
       "2                   0                 0                 0   \n",
       "3                   0                 0                 0   \n",
       "4                   1                 0                 0   \n",
       "\n",
       "   Nation_Cat_Portugal  Nation_Cat_Spain  Nation_Cat_United States  \\\n",
       "0                    0                 0                         0   \n",
       "1                    0                 0                         0   \n",
       "2                    0                 0                         0   \n",
       "3                    0                 0                         0   \n",
       "4                    0                 0                         0   \n",
       "\n",
       "   Alt_Pos_1_CB  Alt_Pos_1_CDM  Alt_Pos_1_CF  Alt_Pos_1_CM  Alt_Pos_1_LB  \\\n",
       "0             0              0             1             0             0   \n",
       "1             0              0             1             0             0   \n",
       "2             0              0             0             0             0   \n",
       "3             0              0             1             0             0   \n",
       "4             0              0             0             0             0   \n",
       "\n",
       "   Alt_Pos_1_LM  Alt_Pos_1_LW  Alt_Pos_1_LWB  Alt_Pos_1_RB  Alt_Pos_1_RM  \\\n",
       "0             0             0              0             0             0   \n",
       "1             0             0              0             0             0   \n",
       "2             0             0              0             0             0   \n",
       "3             0             0              0             0             0   \n",
       "4             0             0              0             0             0   \n",
       "\n",
       "   Alt_Pos_1_RW  Alt_Pos_1_RWB  Alt_Pos_1_ST  Alt_Pos_1_missing  Alt_Pos_2_CB  \\\n",
       "0             0              0             0                  0             0   \n",
       "1             0              0             0                  0             0   \n",
       "2             0              0             0                  0             0   \n",
       "3             0              0             0                  0             0   \n",
       "4             0              0             1                  0             0   \n",
       "\n",
       "   Alt_Pos_2_CDM  Alt_Pos_2_CF  Alt_Pos_2_CM  Alt_Pos_2_LB  Alt_Pos_2_LM  \\\n",
       "0              0             0             0             0             0   \n",
       "1              0             0             0             0             0   \n",
       "2              0             0             0             0             0   \n",
       "3              0             0             0             0             0   \n",
       "4              0             0             0             0             0   \n",
       "\n",
       "   Alt_Pos_2_LW  Alt_Pos_2_LWB  Alt_Pos_2_RB  Alt_Pos_2_RM  Alt_Pos_2_RW  \\\n",
       "0             0              0             0             0             0   \n",
       "1             1              0             0             0             0   \n",
       "2             0              0             0             0             1   \n",
       "3             0              0             0             0             0   \n",
       "4             0              0             0             0             0   \n",
       "\n",
       "   Alt_Pos_2_ST  Alt_Pos_2_missing  Alt_Pos_3_CDM  Alt_Pos_3_CF  Alt_Pos_3_CM  \\\n",
       "0             0                  1              0             0             0   \n",
       "1             0                  0              0             0             0   \n",
       "2             0                  0              0             0             0   \n",
       "3             1                  0              0             0             0   \n",
       "4             0                  1              0             0             0   \n",
       "\n",
       "   Alt_Pos_3_LB  Alt_Pos_3_LM  Alt_Pos_3_LW  Alt_Pos_3_LWB  Alt_Pos_3_RM  \\\n",
       "0             0             0             0              0             0   \n",
       "1             0             0             0              0             0   \n",
       "2             0             0             0              0             0   \n",
       "3             0             0             0              0             0   \n",
       "4             0             0             0              0             0   \n",
       "\n",
       "   Alt_Pos_3_RW  Alt_Pos_3_ST  Alt_Pos_3_missing  Gender_Male  \n",
       "0             0             0                  1            1  \n",
       "1             0             0                  1            1  \n",
       "2             0             1                  0            1  \n",
       "3             0             0                  1            1  \n",
       "4             0             0                  1            1  "
      ]
     },
     "execution_count": 7,
     "metadata": {},
     "output_type": "execute_result"
    }
   ],
   "source": [
    "# Importing all datasets\n",
    "futbin_data = pd.read_csv(\"futbin24.csv\")\n",
    "futbin_data.head()"
   ]
  },
  {
   "cell_type": "code",
   "execution_count": 5,
   "id": "572dcde8",
   "metadata": {},
   "outputs": [
    {
     "name": "stdout",
     "output_type": "stream",
     "text": [
      "<class 'pandas.core.frame.DataFrame'>\n",
      "RangeIndex: 22581 entries, 0 to 22580\n",
      "Data columns (total 27 columns):\n",
      " #   Column                  Non-Null Count  Dtype  \n",
      "---  ------                  --------------  -----  \n",
      " 0   Name                    22581 non-null  object \n",
      " 1   Club                    22581 non-null  object \n",
      " 2   Nation                  22581 non-null  object \n",
      " 3   League                  22581 non-null  object \n",
      " 4   Rating                  22581 non-null  int64  \n",
      " 5   Main_Position           22581 non-null  object \n",
      " 6   Alternate_Positions     22581 non-null  object \n",
      " 7   Card_Version            22581 non-null  object \n",
      " 8   Run_Style               22581 non-null  object \n",
      " 9   Price                   22581 non-null  float64\n",
      " 10  Price_Variation         22581 non-null  object \n",
      " 11  Skills_Star             22581 non-null  int64  \n",
      " 12  Weak_Foot_Star          22581 non-null  int64  \n",
      " 13  Attack_Workrate         22581 non-null  object \n",
      " 14  Defense_Workrate        22581 non-null  object \n",
      " 15  Pace / Diving           22581 non-null  float64\n",
      " 16  Shooting / Handling     22581 non-null  int64  \n",
      " 17  Passing / Kicking       22581 non-null  int64  \n",
      " 18  Dribbling / Reflexes    22581 non-null  int64  \n",
      " 19  Defense / Speed         22581 non-null  int64  \n",
      " 20  Physical / Positioning  22581 non-null  int64  \n",
      " 21  Height                  22581 non-null  object \n",
      " 22  BodyType                22581 non-null  object \n",
      " 23  Popularity              22581 non-null  int64  \n",
      " 24  Base_Stats              22581 non-null  int64  \n",
      " 25  Ingame_Stats            22581 non-null  int64  \n",
      " 26  Gender                  22581 non-null  object \n",
      "dtypes: float64(2), int64(11), object(14)\n",
      "memory usage: 4.7+ MB\n"
     ]
    }
   ],
   "source": [
    "futbin_data.info()"
   ]
  },
  {
   "cell_type": "code",
   "execution_count": 21,
   "id": "fd9b8e65",
   "metadata": {},
   "outputs": [
    {
     "data": {
      "text/plain": [
       "<Axes: >"
      ]
     },
     "execution_count": 21,
     "metadata": {},
     "output_type": "execute_result"
    },
    {
     "data": {
      "image/png": "[encoded data removed]",
      "text/plain": [
       "<Figure size 640x480 with 1 Axes>"
      ]
     },
     "metadata": {},
     "output_type": "display_data"
    }
   ],
   "source": [
    "futbin_data.Club.value_counts().nlargest(20).plot(kind='bar')"
   ]
  },
  {
   "cell_type": "code",
   "execution_count": 23,
   "id": "7a6f7559",
   "metadata": {},
   "outputs": [
    {
     "data": {
      "text/plain": [
       "677"
      ]
     },
     "execution_count": 23,
     "metadata": {},
     "output_type": "execute_result"
    }
   ],
   "source": [
    "futbin_data.Club.value_counts().count()"
   ]
  },
  {
   "cell_type": "code",
   "execution_count": 24,
   "id": "10dc2f3f",
   "metadata": {},
   "outputs": [
    {
     "data": {
      "text/plain": [
       "134"
      ]
     },
     "execution_count": 24,
     "metadata": {},
     "output_type": "execute_result"
    }
   ],
   "source": [
    "futbin_data.Nation.value_counts().count()"
   ]
  },
  {
   "cell_type": "code",
   "execution_count": 27,
   "id": "7c5cc360",
   "metadata": {},
   "outputs": [
    {
     "data": {
      "text/plain": [
       "<Axes: >"
      ]
     },
     "execution_count": 27,
     "metadata": {},
     "output_type": "execute_result"
    },
    {
     "data": {
      "image/png": "[encoded data removed]",
      "text/plain": [
       "<Figure size 640x480 with 1 Axes>"
      ]
     },
     "metadata": {},
     "output_type": "display_data"
    }
   ],
   "source": [
    "futbin_data.Nation.value_counts().nlargest(20).plot(kind='bar')"
   ]
  },
  {
   "cell_type": "code",
   "execution_count": 28,
   "id": "b32a252e",
   "metadata": {},
   "outputs": [
    {
     "data": {
      "text/plain": [
       "48"
      ]
     },
     "execution_count": 28,
     "metadata": {},
     "output_type": "execute_result"
    }
   ],
   "source": [
    "futbin_data.League.value_counts().count()"
   ]
  },
  {
   "cell_type": "code",
   "execution_count": 29,
   "id": "d309895e",
   "metadata": {},
   "outputs": [
    {
     "data": {
      "text/plain": [
       "<Axes: >"
      ]
     },
     "execution_count": 29,
     "metadata": {},
     "output_type": "execute_result"
    },
    {
     "data": {
      "image/png": "[encoded data removed]",
      "text/plain": [
       "<Figure size 640x480 with 1 Axes>"
      ]
     },
     "metadata": {},
     "output_type": "display_data"
    }
   ],
   "source": [
    "futbin_data.League.value_counts().nlargest(20).plot(kind='bar')"
   ]
  },
  {
   "cell_type": "code",
   "execution_count": 30,
   "id": "dadd1c69",
   "metadata": {},
   "outputs": [
    {
     "data": {
      "text/plain": [
       "67    400\n",
       "65    389\n",
       "66    384\n",
       "64    378\n",
       "68    369\n",
       "63    346\n",
       "69    322\n",
       "70    310\n",
       "62    289\n",
       "60    258\n",
       "71    250\n",
       "61    247\n",
       "72    232\n",
       "73    216\n",
       "78    180\n",
       "74    171\n",
       "75    169\n",
       "59    160\n",
       "77    160\n",
       "58    133\n",
       "76    130\n",
       "79    120\n",
       "56    101\n",
       "87     97\n",
       "57     96\n",
       "81     90\n",
       "84     90\n",
       "86     90\n",
       "55     83\n",
       "88     83\n",
       "80     80\n",
       "54     79\n",
       "83     70\n",
       "89     70\n",
       "85     70\n",
       "90     60\n",
       "82     60\n",
       "53     53\n",
       "91     49\n",
       "52     47\n",
       "51     33\n",
       "92     31\n",
       "50     28\n",
       "93     23\n",
       "94     17\n",
       "49     15\n",
       "95     10\n",
       "48     10\n",
       "97      7\n",
       "98      3\n",
       "46      2\n",
       "Name: Rating, dtype: int64"
      ]
     },
     "execution_count": 30,
     "metadata": {},
     "output_type": "execute_result"
    }
   ],
   "source": [
    "futbin_data.Rating.value_counts()"
   ]
  },
  {
   "cell_type": "code",
   "execution_count": 34,
   "id": "d775a4c8",
   "metadata": {},
   "outputs": [
    {
     "data": {
      "text/plain": [
       "<Axes: ylabel='Density'>"
      ]
     },
     "execution_count": 34,
     "metadata": {},
     "output_type": "execute_result"
    },
    {
     "data": {
      "image/png": "[encoded data removed]",
      "text/plain": [
       "<Figure size 640x480 with 1 Axes>"
      ]
     },
     "metadata": {},
     "output_type": "display_data"
    }
   ],
   "source": [
    "futbin_data['Rating'].plot(kind='kde')"
   ]
  },
  {
   "cell_type": "code",
   "execution_count": 36,
   "id": "f2931596",
   "metadata": {},
   "outputs": [
    {
     "data": {
      "text/plain": [
       "46"
      ]
     },
     "execution_count": 36,
     "metadata": {},
     "output_type": "execute_result"
    }
   ],
   "source": [
    "futbin_data['Rating'].min()"
   ]
  },
  {
   "cell_type": "code",
   "execution_count": 37,
   "id": "2af8f236",
   "metadata": {},
   "outputs": [
    {
     "data": {
      "text/plain": [
       "98"
      ]
     },
     "execution_count": 37,
     "metadata": {},
     "output_type": "execute_result"
    }
   ],
   "source": [
    "futbin_data['Rating'].max()"
   ]
  },
  {
   "cell_type": "code",
   "execution_count": 39,
   "id": "654dc711",
   "metadata": {},
   "outputs": [
    {
     "data": {
      "text/plain": [
       "69.125"
      ]
     },
     "execution_count": 39,
     "metadata": {},
     "output_type": "execute_result"
    }
   ],
   "source": [
    "futbin_data['Rating'].mean()"
   ]
  },
  {
   "cell_type": "code",
   "execution_count": 41,
   "id": "78fdfe6c",
   "metadata": {},
   "outputs": [
    {
     "data": {
      "text/plain": [
       "<Axes: >"
      ]
     },
     "execution_count": 41,
     "metadata": {},
     "output_type": "execute_result"
    },
    {
     "data": {
      "image/png": "[encoded data removed]",
      "text/plain": [
       "<Figure size 640x480 with 1 Axes>"
      ]
     },
     "metadata": {},
     "output_type": "display_data"
    }
   ],
   "source": [
    "futbin_data.Main_Position.value_counts().plot(kind='bar')"
   ]
  },
  {
   "cell_type": "code",
   "execution_count": 43,
   "id": "8708d770",
   "metadata": {},
   "outputs": [
    {
     "data": {
      "text/plain": [
       "131"
      ]
     },
     "execution_count": 43,
     "metadata": {},
     "output_type": "execute_result"
    }
   ],
   "source": [
    "futbin_data.Card_Version.value_counts().count()"
   ]
  },
  {
   "cell_type": "code",
   "execution_count": 44,
   "id": "44b00b8b",
   "metadata": {},
   "outputs": [
    {
     "data": {
      "text/plain": [
       "3"
      ]
     },
     "execution_count": 44,
     "metadata": {},
     "output_type": "execute_result"
    }
   ],
   "source": [
    "futbin_data.Run_Style.value_counts().count()"
   ]
  },
  {
   "cell_type": "code",
   "execution_count": 45,
   "id": "b8009d57",
   "metadata": {},
   "outputs": [
    {
     "data": {
      "text/plain": [
       "Controlled    5079\n",
       "Explosive     1102\n",
       "Lengthy        979\n",
       "Name: Run_Style, dtype: int64"
      ]
     },
     "execution_count": 45,
     "metadata": {},
     "output_type": "execute_result"
    }
   ],
   "source": [
    "futbin_data.Run_Style.value_counts()"
   ]
  },
  {
   "cell_type": "code",
   "execution_count": 46,
   "id": "0e3da3b4",
   "metadata": {},
   "outputs": [
    {
     "data": {
      "text/plain": [
       "<Axes: >"
      ]
     },
     "execution_count": 46,
     "metadata": {},
     "output_type": "execute_result"
    },
    {
     "data": {
      "image/png": "[encoded data removed]",
      "text/plain": [
       "<Figure size 640x480 with 1 Axes>"
      ]
     },
     "metadata": {},
     "output_type": "display_data"
    }
   ],
   "source": [
    "futbin_data.Run_Style.value_counts().plot(kind='bar')"
   ]
  },
  {
   "cell_type": "code",
   "execution_count": 47,
   "id": "f8625a3c",
   "metadata": {},
   "outputs": [
    {
     "data": {
      "text/plain": [
       "<Axes: ylabel='Density'>"
      ]
     },
     "execution_count": 47,
     "metadata": {},
     "output_type": "execute_result"
    },
    {
     "data": {
      "image/png": "[encoded data removed]",
      "text/plain": [
       "<Figure size 640x480 with 1 Axes>"
      ]
     },
     "metadata": {},
     "output_type": "display_data"
    }
   ],
   "source": [
    "futbin_data['Price'].plot(kind='kde')"
   ]
  },
  {
   "cell_type": "code",
   "execution_count": 48,
   "id": "606efc13",
   "metadata": {},
   "outputs": [
    {
     "data": {
      "text/plain": [
       "0.0"
      ]
     },
     "execution_count": 48,
     "metadata": {},
     "output_type": "execute_result"
    }
   ],
   "source": [
    "futbin_data['Price'].min()"
   ]
  },
  {
   "cell_type": "code",
   "execution_count": 50,
   "id": "f6a98594",
   "metadata": {},
   "outputs": [
    {
     "data": {
      "text/plain": [
       "15000000.0"
      ]
     },
     "execution_count": 50,
     "metadata": {},
     "output_type": "execute_result"
    }
   ],
   "source": [
    "futbin_data['Price'].max()"
   ]
  },
  {
   "cell_type": "code",
   "execution_count": 51,
   "id": "48b4dab3",
   "metadata": {},
   "outputs": [
    {
     "data": {
      "text/plain": [
       "<Axes: >"
      ]
     },
     "execution_count": 51,
     "metadata": {},
     "output_type": "execute_result"
    },
    {
     "data": {
      "image/png": "[encoded data removed]",
      "text/plain": [
       "<Figure size 640x480 with 1 Axes>"
      ]
     },
     "metadata": {},
     "output_type": "display_data"
    }
   ],
   "source": [
    "futbin_data.Skills_Star.value_counts().plot(kind='bar')"
   ]
  },
  {
   "cell_type": "code",
   "execution_count": 52,
   "id": "9545dbdf",
   "metadata": {},
   "outputs": [
    {
     "data": {
      "text/plain": [
       "<Axes: >"
      ]
     },
     "execution_count": 52,
     "metadata": {},
     "output_type": "execute_result"
    },
    {
     "data": {
      "image/png": "[encoded data removed]",
      "text/plain": [
       "<Figure size 640x480 with 1 Axes>"
      ]
     },
     "metadata": {},
     "output_type": "display_data"
    }
   ],
   "source": [
    "futbin_data.Weak_Foot_Star.value_counts().plot(kind='bar')"
   ]
  },
  {
   "cell_type": "code",
   "execution_count": 53,
   "id": "dd723683",
   "metadata": {},
   "outputs": [
    {
     "data": {
      "text/plain": [
       "<Axes: >"
      ]
     },
     "execution_count": 53,
     "metadata": {},
     "output_type": "execute_result"
    },
    {
     "data": {
      "image/png": "[encoded data removed]",
      "text/plain": [
       "<Figure size 640x480 with 1 Axes>"
      ]
     },
     "metadata": {},
     "output_type": "display_data"
    }
   ],
   "source": [
    "futbin_data.Attack_Workrate.value_counts().plot(kind='bar')"
   ]
  },
  {
   "cell_type": "code",
   "execution_count": 8,
   "id": "6a25aa70",
   "metadata": {},
   "outputs": [
    {
     "ename": "AttributeError",
     "evalue": "'DataFrame' object has no attribute 'Defense_Workrate'",
     "output_type": "error",
     "traceback": [
      "\u001b[1;31m---------------------------------------------------------------------------\u001b[0m",
      "\u001b[1;31mAttributeError\u001b[0m                            Traceback (most recent call last)",
      "\u001b[1;32m~\\AppData\\Local\\Temp\\ipykernel_65100\\3950142540.py\u001b[0m in \u001b[0;36m?\u001b[1;34m()\u001b[0m\n\u001b[1;32m----> 1\u001b[1;33m \u001b[0mfutbin_data\u001b[0m\u001b[1;33m.\u001b[0m\u001b[0mDefense_Workrate\u001b[0m\u001b[1;33m.\u001b[0m\u001b[0mvalue_counts\u001b[0m\u001b[1;33m(\u001b[0m\u001b[1;33m)\u001b[0m\u001b[1;33m.\u001b[0m\u001b[0mplot\u001b[0m\u001b[1;33m(\u001b[0m\u001b[0mkind\u001b[0m\u001b[1;33m=\u001b[0m\u001b[1;34m'bar'\u001b[0m\u001b[1;33m)\u001b[0m\u001b[1;33m\u001b[0m\u001b[1;33m\u001b[0m\u001b[0m\n\u001b[0m",
      "\u001b[1;32mC:\\ProgramData\\Anaconda3\\lib\\site-packages\\pandas\\core\\generic.py\u001b[0m in \u001b[0;36m?\u001b[1;34m(self, name)\u001b[0m\n\u001b[0;32m   5571\u001b[0m             \u001b[1;32mand\u001b[0m \u001b[0mname\u001b[0m \u001b[1;32mnot\u001b[0m \u001b[1;32min\u001b[0m \u001b[0mself\u001b[0m\u001b[1;33m.\u001b[0m\u001b[0m_accessors\u001b[0m\u001b[1;33m\u001b[0m\u001b[1;33m\u001b[0m\u001b[0m\n\u001b[0;32m   5572\u001b[0m             \u001b[1;32mand\u001b[0m \u001b[0mself\u001b[0m\u001b[1;33m.\u001b[0m\u001b[0m_info_axis\u001b[0m\u001b[1;33m.\u001b[0m\u001b[0m_can_hold_identifiers_and_holds_name\u001b[0m\u001b[1;33m(\u001b[0m\u001b[0mname\u001b[0m\u001b[1;33m)\u001b[0m\u001b[1;33m\u001b[0m\u001b[1;33m\u001b[0m\u001b[0m\n\u001b[0;32m   5573\u001b[0m         ):\n\u001b[0;32m   5574\u001b[0m             \u001b[1;32mreturn\u001b[0m \u001b[0mself\u001b[0m\u001b[1;33m[\u001b[0m\u001b[0mname\u001b[0m\u001b[1;33m]\u001b[0m\u001b[1;33m\u001b[0m\u001b[1;33m\u001b[0m\u001b[0m\n\u001b[1;32m-> 5575\u001b[1;33m         \u001b[1;32mreturn\u001b[0m \u001b[0mobject\u001b[0m\u001b[1;33m.\u001b[0m\u001b[0m__getattribute__\u001b[0m\u001b[1;33m(\u001b[0m\u001b[0mself\u001b[0m\u001b[1;33m,\u001b[0m \u001b[0mname\u001b[0m\u001b[1;33m)\u001b[0m\u001b[1;33m\u001b[0m\u001b[1;33m\u001b[0m\u001b[0m\n\u001b[0m",
      "\u001b[1;31mAttributeError\u001b[0m: 'DataFrame' object has no attribute 'Defense_Workrate'"
     ]
    }
   ],
   "source": [
    "futbin_data.Defense_Workrate.value_counts().plot(kind='bar')"
   ]
  },
  {
   "cell_type": "code",
   "execution_count": 10,
   "id": "0023c93d",
   "metadata": {},
   "outputs": [
    {
     "data": {
      "text/plain": [
       "<Axes: >"
      ]
     },
     "execution_count": 10,
     "metadata": {},
     "output_type": "execute_result"
    },
    {
     "data": {
      "image/png": "[encoded data removed]",
      "text/plain": [
       "<Figure size 640x480 with 1 Axes>"
      ]
     },
     "metadata": {},
     "output_type": "display_data"
    }
   ],
   "source": [
    "futbin_data.Gender_Male.value_counts().plot(kind='bar')"
   ]
  },
  {
   "cell_type": "code",
   "execution_count": 69,
   "id": "2a0b5d67",
   "metadata": {},
   "outputs": [
    {
     "data": {
      "text/html": [
       "<div>\n",
       "<style scoped>\n",
       "    .dataframe tbody tr th:only-of-type {\n",
       "        vertical-align: middle;\n",
       "    }\n",
       "\n",
       "    .dataframe tbody tr th {\n",
       "        vertical-align: top;\n",
       "    }\n",
       "\n",
       "    .dataframe thead th {\n",
       "        text-align: right;\n",
       "    }\n",
       "</style>\n",
       "<table border=\"1\" class=\"dataframe\">\n",
       "  <thead>\n",
       "    <tr style=\"text-align: right;\">\n",
       "      <th></th>\n",
       "      <th>0</th>\n",
       "    </tr>\n",
       "  </thead>\n",
       "  <tbody>\n",
       "    <tr>\n",
       "      <th>Pace / Diving</th>\n",
       "      <td>70.463547</td>\n",
       "    </tr>\n",
       "    <tr>\n",
       "      <th>Shooting / Handling</th>\n",
       "      <td>57.305726</td>\n",
       "    </tr>\n",
       "    <tr>\n",
       "      <th>Passing / Kicking</th>\n",
       "      <td>61.458101</td>\n",
       "    </tr>\n",
       "    <tr>\n",
       "      <th>Dribbling / Reflexes</th>\n",
       "      <td>66.473184</td>\n",
       "    </tr>\n",
       "    <tr>\n",
       "      <th>Defense / Speed</th>\n",
       "      <td>52.562989</td>\n",
       "    </tr>\n",
       "    <tr>\n",
       "      <th>Physical / Positioning</th>\n",
       "      <td>67.448883</td>\n",
       "    </tr>\n",
       "  </tbody>\n",
       "</table>\n",
       "</div>"
      ],
      "text/plain": [
       "                                0\n",
       "Pace / Diving           70.463547\n",
       "Shooting / Handling     57.305726\n",
       "Passing / Kicking       61.458101\n",
       "Dribbling / Reflexes    66.473184\n",
       "Defense / Speed         52.562989\n",
       "Physical / Positioning  67.448883"
      ]
     },
     "execution_count": 69,
     "metadata": {},
     "output_type": "execute_result"
    }
   ],
   "source": [
    "pd.DataFrame(futbin_data[['Pace / Diving','Shooting / Handling','Passing / Kicking','Dribbling / Reflexes','Defense / Speed','Physical / Positioning']].mean())"
   ]
  },
  {
   "cell_type": "code",
   "execution_count": 70,
   "id": "6dc93de3",
   "metadata": {},
   "outputs": [
    {
     "data": {
      "text/html": [
       "<div>\n",
       "<style scoped>\n",
       "    .dataframe tbody tr th:only-of-type {\n",
       "        vertical-align: middle;\n",
       "    }\n",
       "\n",
       "    .dataframe tbody tr th {\n",
       "        vertical-align: top;\n",
       "    }\n",
       "\n",
       "    .dataframe thead th {\n",
       "        text-align: right;\n",
       "    }\n",
       "</style>\n",
       "<table border=\"1\" class=\"dataframe\">\n",
       "  <thead>\n",
       "    <tr style=\"text-align: right;\">\n",
       "      <th></th>\n",
       "      <th>0</th>\n",
       "    </tr>\n",
       "  </thead>\n",
       "  <tbody>\n",
       "    <tr>\n",
       "      <th>Pace / Diving</th>\n",
       "      <td>30.0</td>\n",
       "    </tr>\n",
       "    <tr>\n",
       "      <th>Shooting / Handling</th>\n",
       "      <td>18.0</td>\n",
       "    </tr>\n",
       "    <tr>\n",
       "      <th>Passing / Kicking</th>\n",
       "      <td>26.0</td>\n",
       "    </tr>\n",
       "    <tr>\n",
       "      <th>Dribbling / Reflexes</th>\n",
       "      <td>28.0</td>\n",
       "    </tr>\n",
       "    <tr>\n",
       "      <th>Defense / Speed</th>\n",
       "      <td>15.0</td>\n",
       "    </tr>\n",
       "    <tr>\n",
       "      <th>Physical / Positioning</th>\n",
       "      <td>30.0</td>\n",
       "    </tr>\n",
       "  </tbody>\n",
       "</table>\n",
       "</div>"
      ],
      "text/plain": [
       "                           0\n",
       "Pace / Diving           30.0\n",
       "Shooting / Handling     18.0\n",
       "Passing / Kicking       26.0\n",
       "Dribbling / Reflexes    28.0\n",
       "Defense / Speed         15.0\n",
       "Physical / Positioning  30.0"
      ]
     },
     "execution_count": 70,
     "metadata": {},
     "output_type": "execute_result"
    }
   ],
   "source": [
    "pd.DataFrame(futbin_data[['Pace / Diving','Shooting / Handling','Passing / Kicking','Dribbling / Reflexes','Defense / Speed','Physical / Positioning']].min())"
   ]
  },
  {
   "cell_type": "code",
   "execution_count": 71,
   "id": "81b91851",
   "metadata": {},
   "outputs": [
    {
     "data": {
      "text/html": [
       "<div>\n",
       "<style scoped>\n",
       "    .dataframe tbody tr th:only-of-type {\n",
       "        vertical-align: middle;\n",
       "    }\n",
       "\n",
       "    .dataframe tbody tr th {\n",
       "        vertical-align: top;\n",
       "    }\n",
       "\n",
       "    .dataframe thead th {\n",
       "        text-align: right;\n",
       "    }\n",
       "</style>\n",
       "<table border=\"1\" class=\"dataframe\">\n",
       "  <thead>\n",
       "    <tr style=\"text-align: right;\">\n",
       "      <th></th>\n",
       "      <th>0</th>\n",
       "    </tr>\n",
       "  </thead>\n",
       "  <tbody>\n",
       "    <tr>\n",
       "      <th>Pace / Diving</th>\n",
       "      <td>99.0</td>\n",
       "    </tr>\n",
       "    <tr>\n",
       "      <th>Shooting / Handling</th>\n",
       "      <td>98.0</td>\n",
       "    </tr>\n",
       "    <tr>\n",
       "      <th>Passing / Kicking</th>\n",
       "      <td>99.0</td>\n",
       "    </tr>\n",
       "    <tr>\n",
       "      <th>Dribbling / Reflexes</th>\n",
       "      <td>99.0</td>\n",
       "    </tr>\n",
       "    <tr>\n",
       "      <th>Defense / Speed</th>\n",
       "      <td>97.0</td>\n",
       "    </tr>\n",
       "    <tr>\n",
       "      <th>Physical / Positioning</th>\n",
       "      <td>99.0</td>\n",
       "    </tr>\n",
       "  </tbody>\n",
       "</table>\n",
       "</div>"
      ],
      "text/plain": [
       "                           0\n",
       "Pace / Diving           99.0\n",
       "Shooting / Handling     98.0\n",
       "Passing / Kicking       99.0\n",
       "Dribbling / Reflexes    99.0\n",
       "Defense / Speed         97.0\n",
       "Physical / Positioning  99.0"
      ]
     },
     "execution_count": 71,
     "metadata": {},
     "output_type": "execute_result"
    }
   ],
   "source": [
    "pd.DataFrame(futbin_data[['Pace / Diving','Shooting / Handling','Passing / Kicking','Dribbling / Reflexes','Defense / Speed','Physical / Positioning']].max())"
   ]
  },
  {
   "cell_type": "code",
   "execution_count": 72,
   "id": "57fcdb64",
   "metadata": {},
   "outputs": [
    {
     "data": {
      "text/plain": [
       "<Axes: ylabel='Density'>"
      ]
     },
     "execution_count": 72,
     "metadata": {},
     "output_type": "execute_result"
    },
    {
     "data": {
      "image/png": "[encoded data removed]",
      "text/plain": [
       "<Figure size 640x480 with 1 Axes>"
      ]
     },
     "metadata": {},
     "output_type": "display_data"
    }
   ],
   "source": [
    "futbin_data['Popularity'].plot(kind='kde')"
   ]
  },
  {
   "cell_type": "code",
   "execution_count": 76,
   "id": "d6436529",
   "metadata": {},
   "outputs": [
    {
     "data": {
      "text/plain": [
       "15590"
      ]
     },
     "execution_count": 76,
     "metadata": {},
     "output_type": "execute_result"
    }
   ],
   "source": [
    "futbin_data['Popularity'].plot(kind='kde')"
   ]
  },
  {
   "cell_type": "code",
   "execution_count": null,
   "id": "73890eaf",
   "metadata": {},
   "outputs": [],
   "source": []
  },
  {
   "cell_type": "code",
   "execution_count": null,
   "id": "50cfae4b",
   "metadata": {},
   "outputs": [],
   "source": []
  },
  {
   "cell_type": "code",
   "execution_count": null,
   "id": "b9fa1585",
   "metadata": {},
   "outputs": [],
   "source": []
  },
  {
   "cell_type": "code",
   "execution_count": null,
   "id": "710cedbb",
   "metadata": {},
   "outputs": [],
   "source": []
  }
 ],
 "metadata": {
  "kernelspec": {
   "display_name": "Python 3 (ipykernel)",
   "language": "python",
   "name": "python3"
  },
  "language_info": {
   "codemirror_mode": {
    "name": "ipython",
    "version": 3
   },
   "file_extension": ".py",
   "mimetype": "text/x-python",
   "name": "python",
   "nbconvert_exporter": "python",
   "pygments_lexer": "ipython3",
   "version": "3.8.13"
  }
 },
 "nbformat": 4,
 "nbformat_minor": 5
}
